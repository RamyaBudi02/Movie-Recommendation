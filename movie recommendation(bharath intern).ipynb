{
 "cells": [
  {
   "cell_type": "code",
   "execution_count": 1,
   "id": "9ce3b329",
   "metadata": {},
   "outputs": [],
   "source": [
    "#import the libraries required\n",
    "\n",
    "import pandas as pd\n",
    "\n",
    "\n",
    "import difflib\n",
    "#we take input(the movie name) from the user,there is a possibility that the user may give some spelling mistakes\n",
    "#we need to find the similar match to it,for that we use difflib\n",
    "\n",
    "\n",
    "from sklearn.feature_extraction.text import TfidfVectorizer\n",
    "#this is used to convert textual data into numberical data(which is known as feature vector)\n",
    "\n",
    "\n",
    "from sklearn.metrics.pairwise import cosine_similarity\n",
    "#to find the similarities between all the movies"
   ]
  },
  {
   "cell_type": "code",
   "execution_count": 2,
   "id": "8b597805",
   "metadata": {},
   "outputs": [],
   "source": [
    "data=pd.read_csv('TeluguMovies_dataset.csv')"
   ]
  },
  {
   "cell_type": "code",
   "execution_count": 3,
   "id": "1bac10f8",
   "metadata": {},
   "outputs": [
    {
     "data": {
      "text/html": [
       "<div>\n",
       "<style scoped>\n",
       "    .dataframe tbody tr th:only-of-type {\n",
       "        vertical-align: middle;\n",
       "    }\n",
       "\n",
       "    .dataframe tbody tr th {\n",
       "        vertical-align: top;\n",
       "    }\n",
       "\n",
       "    .dataframe thead th {\n",
       "        text-align: right;\n",
       "    }\n",
       "</style>\n",
       "<table border=\"1\" class=\"dataframe\">\n",
       "  <thead>\n",
       "    <tr style=\"text-align: right;\">\n",
       "      <th></th>\n",
       "      <th>index</th>\n",
       "      <th>Movie</th>\n",
       "      <th>Year</th>\n",
       "      <th>Certificate</th>\n",
       "      <th>Genre</th>\n",
       "      <th>Overview</th>\n",
       "      <th>Runtime</th>\n",
       "      <th>Rating</th>\n",
       "      <th>No.of.Ratings</th>\n",
       "    </tr>\n",
       "  </thead>\n",
       "  <tbody>\n",
       "    <tr>\n",
       "      <th>0</th>\n",
       "      <td>0</td>\n",
       "      <td>Bahubali: The Beginning</td>\n",
       "      <td>2015.0</td>\n",
       "      <td>UA</td>\n",
       "      <td>Action, Drama</td>\n",
       "      <td>In ancient India, an adventurous and darin...</td>\n",
       "      <td>159</td>\n",
       "      <td>8.1</td>\n",
       "      <td>99114</td>\n",
       "    </tr>\n",
       "    <tr>\n",
       "      <th>1</th>\n",
       "      <td>1</td>\n",
       "      <td>Baahubali 2: The Conclusion</td>\n",
       "      <td>2017.0</td>\n",
       "      <td>UA</td>\n",
       "      <td>Action, Drama</td>\n",
       "      <td>When Shiva, the son of Bahubali, learns ab...</td>\n",
       "      <td>167</td>\n",
       "      <td>8.2</td>\n",
       "      <td>71458</td>\n",
       "    </tr>\n",
       "    <tr>\n",
       "      <th>2</th>\n",
       "      <td>2</td>\n",
       "      <td>1 - Nenokkadine</td>\n",
       "      <td>2014.0</td>\n",
       "      <td>UA</td>\n",
       "      <td>Action, Thriller</td>\n",
       "      <td>A rock star must overcome his psychologica...</td>\n",
       "      <td>170</td>\n",
       "      <td>8.1</td>\n",
       "      <td>42372</td>\n",
       "    </tr>\n",
       "    <tr>\n",
       "      <th>3</th>\n",
       "      <td>3</td>\n",
       "      <td>Dhoom:3</td>\n",
       "      <td>2013.0</td>\n",
       "      <td>UA</td>\n",
       "      <td>Action, Thriller</td>\n",
       "      <td>When Sahir, a circus entertainer trained i...</td>\n",
       "      <td>172</td>\n",
       "      <td>5.4</td>\n",
       "      <td>42112</td>\n",
       "    </tr>\n",
       "    <tr>\n",
       "      <th>4</th>\n",
       "      <td>4</td>\n",
       "      <td>Ra.One</td>\n",
       "      <td>2011.0</td>\n",
       "      <td>U</td>\n",
       "      <td>Action, Adventure, Sci-Fi</td>\n",
       "      <td>When the titular antagonist of an action g...</td>\n",
       "      <td>156</td>\n",
       "      <td>4.6</td>\n",
       "      <td>37211</td>\n",
       "    </tr>\n",
       "  </tbody>\n",
       "</table>\n",
       "</div>"
      ],
      "text/plain": [
       "   index                        Movie    Year Certificate  \\\n",
       "0      0      Bahubali: The Beginning  2015.0          UA   \n",
       "1      1  Baahubali 2: The Conclusion  2017.0          UA   \n",
       "2      2              1 - Nenokkadine  2014.0          UA   \n",
       "3      3                      Dhoom:3  2013.0          UA   \n",
       "4      4                       Ra.One  2011.0           U   \n",
       "\n",
       "                                   Genre  \\\n",
       "0              Action, Drama               \n",
       "1              Action, Drama               \n",
       "2           Action, Thriller               \n",
       "3           Action, Thriller               \n",
       "4  Action, Adventure, Sci-Fi               \n",
       "\n",
       "                                            Overview  Runtime  Rating  \\\n",
       "0      In ancient India, an adventurous and darin...      159     8.1   \n",
       "1      When Shiva, the son of Bahubali, learns ab...      167     8.2   \n",
       "2      A rock star must overcome his psychologica...      170     8.1   \n",
       "3      When Sahir, a circus entertainer trained i...      172     5.4   \n",
       "4      When the titular antagonist of an action g...      156     4.6   \n",
       "\n",
       "   No.of.Ratings  \n",
       "0          99114  \n",
       "1          71458  \n",
       "2          42372  \n",
       "3          42112  \n",
       "4          37211  "
      ]
     },
     "execution_count": 3,
     "metadata": {},
     "output_type": "execute_result"
    }
   ],
   "source": [
    "data.head()"
   ]
  },
  {
   "cell_type": "code",
   "execution_count": 4,
   "id": "c1ab0d7a",
   "metadata": {},
   "outputs": [
    {
     "data": {
      "text/plain": [
       "(1400, 9)"
      ]
     },
     "execution_count": 4,
     "metadata": {},
     "output_type": "execute_result"
    }
   ],
   "source": [
    "data.shape  #to know about rows and columns"
   ]
  },
  {
   "cell_type": "code",
   "execution_count": 5,
   "id": "7e842960",
   "metadata": {},
   "outputs": [],
   "source": [
    "#this is based on content and popularity based\n",
    "\n",
    "#selecting the specific columns that are required\n",
    "selected_columns =['Certificate','Genre','Overview','Rating']\n",
    "\n",
    "\n",
    "#iterating throw the list and filling the null values with the \"\"(empty space)\n",
    "for i in selected_columns:\n",
    "    data[i]=data[i].fillna(\"\")"
   ]
  },
  {
   "cell_type": "code",
   "execution_count": 6,
   "id": "f17c7dbc",
   "metadata": {},
   "outputs": [
    {
     "name": "stdout",
     "output_type": "stream",
     "text": [
      "0       UA Action, Drama                 In ancient In...\n",
      "1       UA Action, Drama                 When Shiva, t...\n",
      "2       UA Action, Thriller                 A rock sta...\n",
      "3       UA Action, Thriller                 When Sahir...\n",
      "4       U Action, Adventure, Sci-Fi                 Wh...\n",
      "                              ...                        \n",
      "1395                                                  8.6\n",
      "1396     Comedy, Drama                 The movie is ab...\n",
      "1397     Drama, Romance                 Muvva Gopaludu...\n",
      "1398    U      Hero Charan (Tarun) a middle class fami...\n",
      "1399    U Drama                 Surendra marries Savit...\n",
      "Length: 1400, dtype: object\n"
     ]
    }
   ],
   "source": [
    "#combining all the columns,so that it will be easy to find the similarities between them\n",
    "\n",
    "combined_columns=data['Certificate'] +' '+ data['Genre'] +' '+ data['Overview']+ ' '+ data['Rating'].astype(str) \n",
    "#as the rating column contains float values it doesnt directly covert into string\n",
    "\n",
    "print(combined_columns)"
   ]
  },
  {
   "cell_type": "code",
   "execution_count": 7,
   "id": "c0c269d8",
   "metadata": {},
   "outputs": [
    {
     "name": "stdout",
     "output_type": "stream",
     "text": [
      "  (0, 3437)\t0.21282108647960016\n",
      "  (0, 5300)\t0.31313718332904555\n",
      "  (0, 5024)\t0.1746837880230217\n",
      "  (0, 571)\t0.19430924318711293\n",
      "  (0, 1723)\t0.2875874638510906\n",
      "  (0, 3282)\t0.2353055058169436\n",
      "  (0, 1205)\t0.3029493808004103\n",
      "  (0, 2374)\t0.2559412587188551\n",
      "  (0, 531)\t0.21819856793233897\n",
      "  (0, 2847)\t0.14276337291811478\n",
      "  (0, 1174)\t0.3447833884612811\n",
      "  (0, 277)\t0.07960786177632717\n",
      "  (0, 163)\t0.31313718332904555\n",
      "  (0, 266)\t0.11756651256786595\n",
      "  (0, 2286)\t0.20162981887152423\n",
      "  (0, 276)\t0.3029493808004103\n",
      "  (0, 2273)\t0.17471932899702775\n",
      "  (0, 1422)\t0.07643052274953387\n",
      "  (0, 117)\t0.08185598720533066\n",
      "  (0, 5029)\t0.11152910281987476\n",
      "  (1, 2572)\t0.23284782938663662\n",
      "  (1, 2826)\t0.2852029721380556\n",
      "  (1, 5070)\t0.26989007452331404\n",
      "  (1, 4836)\t0.11994702798959948\n",
      "  (1, 1598)\t0.2091076360901349\n",
      "  :\t:\n",
      "  (1399, 4704)\t0.4349514410898509\n",
      "  (1399, 2886)\t0.17285243226648891\n",
      "  (1399, 3167)\t0.20193037319305188\n",
      "  (1399, 2214)\t0.1582581563209773\n",
      "  (1399, 3319)\t0.16653359096482614\n",
      "  (1399, 3020)\t0.1474038928751451\n",
      "  (1399, 93)\t0.16849761485474632\n",
      "  (1399, 2939)\t0.14543986898522493\n",
      "  (1399, 3298)\t0.18762731294442736\n",
      "  (1399, 2114)\t0.09075530099703139\n",
      "  (1399, 4182)\t0.40386074638610375\n",
      "  (1399, 81)\t0.19169091465928287\n",
      "  (1399, 5011)\t0.1474038928751451\n",
      "  (1399, 5357)\t0.1331008326265206\n",
      "  (1399, 2701)\t0.09665255895509832\n",
      "  (1399, 521)\t0.1343959986450621\n",
      "  (1399, 4177)\t0.1517587102868877\n",
      "  (1399, 1598)\t0.16849761485474632\n",
      "  (1399, 5370)\t0.07565468526920076\n",
      "  (1399, 4904)\t0.15219679313111653\n",
      "  (1399, 3270)\t0.056137072556286624\n",
      "  (1399, 277)\t0.053062479266743776\n",
      "  (1399, 266)\t0.2350912521601296\n",
      "  (1399, 2273)\t0.058229429641339016\n",
      "  (1399, 1422)\t0.05094462956609058\n"
     ]
    }
   ],
   "source": [
    "#converting the textual data to feature vectors(numerical data)\n",
    "#the reason to this is we cannot find the cosine similarity with textual data\n",
    "\n",
    "\n",
    "vectorizer = TfidfVectorizer()\n",
    "vectorized_columns=vectorizer.fit_transform(combined_columns)\n",
    "print(vectorized_columns)\n"
   ]
  },
  {
   "cell_type": "code",
   "execution_count": 8,
   "id": "1c060856",
   "metadata": {},
   "outputs": [
    {
     "name": "stdout",
     "output_type": "stream",
     "text": [
      "[[1.         0.03328978 0.02071398 ... 0.02271785 0.01174459 0.04593058]\n",
      " [0.03328978 1.         0.06797627 ... 0.03420216 0.08691213 0.06325907]\n",
      " [0.02071398 0.06797627 1.         ... 0.         0.04529189 0.01253716]\n",
      " ...\n",
      " [0.02271785 0.03420216 0.         ... 1.         0.05559826 0.0149011 ]\n",
      " [0.01174459 0.08691213 0.04529189 ... 0.05559826 1.         0.0312492 ]\n",
      " [0.04593058 0.06325907 0.01253716 ... 0.0149011  0.0312492  1.        ]]\n"
     ]
    }
   ],
   "source": [
    "#finding the similarities with one row to all other rows using the cosine similarity\n",
    "\n",
    "similarity=cosine_similarity(vectorized_columns)\n",
    "print(similarity)"
   ]
  },
  {
   "cell_type": "code",
   "execution_count": 9,
   "id": "8da8109c",
   "metadata": {},
   "outputs": [
    {
     "data": {
      "text/plain": [
       "(1400, 1400)"
      ]
     },
     "execution_count": 9,
     "metadata": {},
     "output_type": "execute_result"
    }
   ],
   "source": [
    "similarity.shape"
   ]
  },
  {
   "cell_type": "code",
   "execution_count": 10,
   "id": "5e621d53",
   "metadata": {},
   "outputs": [
    {
     "name": "stdout",
     "output_type": "stream",
     "text": [
      "enter your favourite name....prema kavali\n"
     ]
    }
   ],
   "source": [
    "#take the movie name from the user,then we will check if the movie is in the dataset or not  \n",
    "#then return the similar movies to that\n",
    "\n",
    "\n",
    "movie_name=input(\"enter your favourite name....\")"
   ]
  },
  {
   "cell_type": "code",
   "execution_count": 11,
   "id": "aad87589",
   "metadata": {},
   "outputs": [
    {
     "name": "stdout",
     "output_type": "stream",
     "text": [
      "['Bahubali: The Beginning', 'Baahubali 2: The Conclusion', '1 - Nenokkadine', 'Dhoom:3', 'Ra.One', 'Dhoom:2', 'Eega', 'Krrish 3', 'Arjun Reddy', 'Rangasthalam', 'Magadheera', 'War', 'Bharat Ane Nenu', 'Saaho', 'Theri', 'Dookudu', 'Pokiri', 'Sarkar', 'Athadu', 'The Ghazi Attack', 'Kabali', 'MSG: The Messenger of God', 'Nanban', 'Srimanthudu', 'Veer - Vivegam', 'Billa 2', 'Manam', '7 Aum Arivu', 'Bigil', 'Business Man', 'Geetha Govindam', 'Mahanati', 'Spyder', 'Nannaku Prematho', 'Dabangg 3', 'MSG 2 the Messenger', 'Manikarnika: The Queen of Jhansi', 'Race Gurram', 'Okkadu', 'Bommarillu', 'Atharintiki Daaredi', 'Khaleja', 'Yennai Arindhaal', 'Thalaivaa', 'Kaala', 'Bairavaa', 'Goodachari', 'Puli', 'Pulimurugan', 'Veeram', 'Vedam', 'Yevadu', 'Aravindha Sametha Veera Raghava', 'Billa', 'Jersey', 'Sye Raa Narasimha Reddy', 'Ala Vaikunthapurramuloo', 'Janatha Garage', 'Gabbar Singh', 'Temper', 'Game Over', 'Singam 2', 'Dhruva', 'Jalsa', 'Maharshi', 'Pelli Choopulu', 'Arya 2', 'Chekka Chivantha Vaanam', 'Naa Peru Surya Na Illu India', 'Ki & Ka', 'Seethamma Vakitlo Sirimalle Chettu', 'Singam 3', 'Agent Sai Srinivasa Athreya', 'Jai Lava Kusa', 'Arya', 'Maattrraan', 'Kochadaiiyaan', 'Thaanaa Serndha Koottam', 'OK Kanmani', 'Dear Comrade', 'Happy Days', 'Sarileru Neekevvaru', 'Julayi', 'Kshanam', 'Oopiri', 'Baadshah', '3', 'Sarrainodu', 'Kick', 'Leader', 'Anjaan', 'Khushi', 'Maya Bazaar', 'Rakhta Charitra', 'Mirchi', 'Chatrapathi', 'C/o Kancharapalem', 'Sachein', 'Murari', 'Vikramarkudu', 'Kuruthipunal', 'Brindaavanam', 'Panjaa', 'Nuvvu Naaku Nachchav', 'Gopala Gopala', 'Kaappaan', 'Aagadu', 'Masss', 'Maanagaram', 'Drushyam', 'Yamadonga', 'S/O Satyamurthy', 'Tholi Prema', 'Awe!', 'Yatra', 'Fidaa', 'Oosaravelli', 'Evaru', 'Odiyan', 'Khaidi No 150', 'NGK', 'Duvvada Jagannadham', 'Bale Bale Magadivoy', 'Shiva', 'Manmadhudu', 'Mr Perfect', 'Orange', 'Anirudh', 'Gamyam', 'Kanche', 'Naayak', 'Malliswari', 'Nuvvostanante Nenoddantana', 'Ye Maaya Chesave', 'Sagara Sangamam', 'Rudhramadevi', 'Cameraman Gangatho Rambabu', 'Majili', 'Uttama Villain', 'Arundhati', 'Agnyaathavaasi', 'Pilla Zamindar', '100% Love', 'Aa Naluguru', 'Darling', 'Aha Naa Pellanta', 'Vinaya Vidheya Rama', 'Happy', 'Ala Modalaindi', 'Prasthanam', 'Dhee', 'Iddarammayilatho', 'Simhadri', 'Taxiwaala', 'Parugu', 'Rakhta Charitra 2', 'Maryada Ramanna', 'Rachcha', 'HIT', 'Nota', 'U Turn', 'Thammudu', 'Zanjeer', 'Ezra', 'Bhaagamathie', 'Adhurs', 'Aditya 369', 'Sardaar Gabbar Singh', 'Gitanjali', 'Ninnu Kori', 'Indra', 'Vishwaroopam 2', 'Oru Adaar Love', 'Tholi Prema', 'Brochevarevarura', '7/G Rainbow Colony', 'Tagore', 'Gang Leader', 'Bujjigaadu: Made in Chennai', 'Sye', 'Yevade Subramanyam', 'Mathu Vadalara', 'Katamarayudu', 'Maari 2', 'Gautamiputra Satakarni', 'Rx 100', 'A... Aa', 'Aalavandhan', 'F2: Fun and Frustration', 'The House Next Door', 'Krishna Gaadi Veera Prema Gaadha', 'Prince', 'Sankarabharanam', 'Thoongaavanam', 'Govindudu Andari Vaadele', 'Anand', 'Raja Kumarudu', 'Baba', 'Dhammu', 'Ramayya Vastavayya', 'NTR: Kathanayakudu', 'Chirutha', 'Thaandavam', 'Athidhi', 'Kshana Kshanam', 'Penguin', 'Rudra Veena', 'Legend', 'Annamayya', 'Badrinath', 'Nenu Local', 'Oh Baby...', 'Sketch', 'Hello Guru Prema Kosame', 'Rabhasa', 'Sainikudu', 'Ishq', 'Arjun', 'Badri', 'Krishnarjuna', 'Hello', 'Saleem', 'Nijam', 'Bruce Lee: The Fighter', 'MCA Middle Class Abbayi', 'Ee Nagaraniki Emaindi', 'Nenu Sailaja', 'Gentleman', 'Student No. 1', 'Kumari 21F', 'Billa', 'Love Ke Liye Kuch Bhi Karega', 'Run Baby Run', 'Chitralahari', 'Shankar Dada MBBS', 'Teen Maar', 'Kanthaswamy', 'Komaram Puli', 'Rebel', 'iSmart Shankar', 'Anukokunda Oka Roju', 'Bheeshma', 'Karthikeya', 'Desamuduru', 'Gunde Jaari Gallanthayyinde', 'Pailwan', 'World Famous Lover', 'Theeya Velai Seiyyanum Kumaru', 'Raja The Great', 'Kadaram Kondan', 'Sammohanam', 'Simha', 'Aithe', 'Takkari Donga', 'Kadhalil Sodhappuvadhu Yeppadi', 'Pammal K. Sambandam', 'Kanchana 2', 'Saroja', 'Vel', 'Pandavulu Pandavulu Thummeda', 'Doosukeltha', 'Gundamma Katha', 'Oohalu Gusagusalade', 'Rowdy', 'Devadas', 'Sokkali Mainor', 'Dhenikaina Ready', 'Political Rowdy', 'Anukshanam', 'Stalin', 'Godavari', 'Suryam', 'Balu', 'Savyasachi', 'Nene Raju Nene Mantri', 'Varsham', 'Kaashmora', 'Run Raja Run', 'Abhiyum Naanum', 'Eedo Rakam Aado Rakam', 'Asthram', 'Ready', 'Irandam Ulagam', 'Sree', 'Aadi', 'Jhummandi Naadam', 'Pandurangadu', 'Naani', 'Game', 'Shatamanam Bhavati', 'Mass', 'Swamy Ra Ra', 'Ekkadiki Pothavu Chinnavada', 'Amazon Obhijaan', 'Chi La Sow', 'Kaathala Kaathala', 'Kanchana 3', 'Vishnu', 'Rakhi', 'Oh My Friend', 'Balupu', 'Aadavari Matalaku Ardhalu Verule', 'Prayanam', 'Antariksham 9000 kmph', 'Konchem Ishtam Konchem Kashtam', 'Jamba Lakidi Pamba', 'Kotigobba 2', 'Kaadhal', 'Current Theega', 'MalliRaava', 'Saahasam Swaasaga Saagipo', 'Premam', 'Johnny', 'King', 'Endrendrum Punnagai', 'Mugamoodi', 'NTR Mahanayakudu', 'PSV Garuda Vega', 'Kurukshetra', 'Uu Kodathara Ulikki Padathara', 'Mr. Nookayya', 'Mirapakai', 'Nenu Meeku Telusa...?', 'Satya 2', 'Pooja', 'Naan Sigappu Manithan', 'Sakthi', 'Uyyala Jampala', 'Khadgam', 'Major Chandrakanth', 'Bachchan', 'Manu', 'Hyderabad Blues', 'Bunny', 'Ragile Gundelu', 'Sri Rama Rajyam', 'Varudu', 'Rakshasudu', 'Gharshana', 'Gaganam', 'Amar Akbar Anthony', 'Kathakali', 'Krishnarjuna Yudham', 'Express Raja', 'Kuselan', 'Don', 'Kantri', 'Malli Malli Idhi Rani Roju', 'Raju Bhai', 'Ayogya', 'Gudumba Shankar', 'Potugadu', 'Vastadu Naa Raju', 'Dubai Seenu', 'Dongata', 'Sahasam', 'Dynamite', 'Alex Pandian', 'Ragada', 'Run', 'Chalo', 'Munna', 'Disco Raja', 'Krishna and His Leela', 'Yeto Vellipoyindhi Manasu', 'Praana', 'Shankardada Zindabad', 'Padi Padi Leche Manasu', 'Punya Bhoomi Naa Desam', 'Quick Gun Murugun: Misadventures of an Indian Cowboy', 'Adavilo Anna', 'Thamizh Padam', 'Ek Niranjan', 'Annavaram', 'Bindaas', 'Prema Katha Chitram', 'Jagadeka Veerudu Athiloka Sundari', 'Vismayam', 'Missamma', 'Gaddalakonda Ganesh', 'Oka Laila Kosam', 'Venky Mama', 'Kick 2', 'Gayatri', '180', 'Shourya', 'Ashta Chamma', 'Sigappu Rojakkal', 'LIE', 'Power', 'Dev', 'Pataas', 'Okkadu Migiladu', 'Majnu', 'Srinivasa Kalyanam', 'Luck Unnodu', 'Amma Nanna O Tamila Ammayi', 'Jayasurya', 'Bangaram', 'Dora', 'Don Seenu', 'Vunnadhi Okate Zindagi', 'Krishnam Vande Jagadgurum', 'Killing Veerappan', 'Gunturodu', 'Mr. Majnu', 'Not Today', 'Oy!', 'Nuvve.. Nuvve...', 'Loukyam', 'Swathi Muthyam', 'Life Is Beautiful', 'Yuvaraju', 'Chal Mohan Ranga', 'Vamsee', 'Endukante... Premanta', 'Veyyil', 'Mallesham', 'Attack', 'Mosagallaku Mosagadu', 'Kandireega', 'Raju Gari Gadhi 2', 'Superstar Kidnap', 'Pournami', 'Ninne Pelladatha', 'Shailaja Reddy Alludu', 'Jamba Lakidi Pamba', 'Jaya Janaki Nayaka', 'Akkada Ammayi Ikkada Abbayi', 'Pichhodu', 'Bobby', 'Okka Kshanam', 'Achari America Yathra', 'Sathyaa', 'Bengal Tiger', 'Ashok', 'Coolie No. 1', 'Pathala Bhairavi', 'Goutham Nanda', 'Gang Leader', 'Golmaal', 'Mahanubhavudu', '118', 'Heart Attack', 'Dictator', 'Idiot', 'Neninthe', 'Rarandoi Veduka Chudham', 'Aswathama', 'Yamajaathakudu', 'Jaanu', 'Neevevaro', 'Power Unlimited 2', 'Guru', 'Kee', 'Jagadam', 'Daruvu', 'Damarukam', 'Super', 'Krishna: The Power of Indrakeeladri', 'Chakram', 'Size Zero', 'Bhadra', 'Erra Buss', \"Lakshmi's NTR\", 'Dhoni', 'Appatlo Okadundevadu', 'Akhil', 'Daana Veera Soora Karna', 'Aadhi Bhagavan', 'Devudu Chesina Manushulu', 'Falaknuma Das', 'Raju Maharaju', 'Adhipathi', 'Peda Rayudu', 'Nela Ticket', 'Prati Roju Pandaage', 'Veera', 'Kotha Bangaru Lokam', 'Santosham', 'Venky', 'Jai Simha', 'Nuvve Kavali', 'Samba', 'Lava Kusa', 'George Reddy', 'Subramanyam for Sale', 'Bhoot Returns', 'Suswagatham', 'Dohchay', 'Andala Rakshasi', 'Raja', 'Sambo Siva Sambho', 'Okkadunnadu', 'Manmadhudu 2', 'Paisa Vasool', 'Lakshmi', 'Chantabbai', 'Anji', 'Dhada', 'Uthama Puthiran', 'Jai Chiranjeeva', 'Magalir Mattum', 'Anaganaga O Dheerudu', 'Supreme Khiladi', 'Aakali Rajyam', 'Okka Magadu', 'Phoonk 2', 'Tappu Chesi Pappu Koodu', 'Bhairava Dweepam', 'Needi Naadi Oke Katha', 'Narasimha Naidu', 'Guru', 'Chintakayala Ravi', 'Yogi', 'Yaman', 'Anando Brahma', 'Vanaja', 'Raja Vaaru Rani Gaaru', 'Gangotri', 'Golimar', 'Narasimhudu', 'Swayam Krushi', 'Mental Madhilo', 'Gaayam', 'Rayalaseema Ramanna Chowdary', 'Gokulamlo Seetha', 'Rajanna', 'Madha', 'Hushaaru', 'Settai', 'Swarnakamalam', 'Tadakha', 'Nenu Naa Rakshasi', 'Diya', 'Vikram', 'Kadhal Desam', 'Mudra', 'Naa Autograph Sweet Memories', 'Dum Dum Dum', 'Challenge', 'Kalisundam Raa', 'Pandaga Chesko', 'Lakshmi', 'Daddy', 'Seetha', 'Kalki', 'Parama Veera Chakra', 'Samarasimha Reddy', 'Andhrawala', 'Hyper', 'Kalloori', 'Veera', 'Criminal', 'Gharana Mogudu', 'Namo Venkatesa', 'Karnan', 'Annayya', 'Mesthri', 'Little Soldiers', 'Alludu Seenu', 'Yuddham Sharanam', 'Khaidi', 'Shiva Shankar', 'Bavagaru Bagunnara?', 'Nannu Dochukunduvate', 'Hello Brother', 'Naa Alludu', 'Shamantakamani', 'Thulasi', 'Keshava', 'Maja', 'Aata', 'Choodalani Vundi', 'Ranarangam', 'Mukunda', 'Allari Police', 'Kirrak Party', 'Chenna Kesava Reddy', 'Sarocharu', 'Nadunisi Naaygal', 'Nagavalli', 'Ennaku 20 Unakku 18', 'Bodyguard', 'Raju Gari Gadhi 3', 'Josh', 'Greeku Veerudu', 'Lakshmi Narasimha', 'Autonagar Surya', 'Style', 'Shivamani', 'Surya vs. Surya', 'Swathi Kiranam', 'Alluda Majaaka!', 'Kavacham', 'Chinnadana Nee Kosam', 'Hrudaya Kaleyam', 'Mama Manchu Alludu Kanchu', 'Prathinidhi', 'Meesrti', 'Khatarnak', 'Ritu', 'Sri Ramadasu', 'Jawaan', 'Maalai Nerathu Mayakkam', 'Janaki Ramudu', 'Koduku Diddina Kapuram', 'Subedar Joginder Singh', 'Anasuya', 'Postman', 'Seven', 'Jil', 'Solo', 'Andarivaadu', 'Anthahpuram', 'Samrat Ashok', 'Aapathbandavudu', 'Aaha Kalyanam', 'Allari Pidugu', 'Officer', 'Paisa', 'Yaan', 'Alluri Seetharama Raju', 'Adavi Donga', 'Madhuram', 'Vasu', 'Shiva', 'Saakshyam', 'Shadow', 'Babu Bangaram', 'Shivam', 'Rayudu', 'Lion', 'Pantham', 'Govindha Govindha', 'Nippu', 'Pasivadi Pranam', 'Chanakya', 'Kondaveeti Raja', 'Jessie', 'Ninu Veedani Needanu Nene', 'E', 'Ramayanam', 'Meeku Matrame Chepta', 'Jay Jay', 'Naaga', 'Venkatadri Express', 'Golkonda High School', 'Khaidi No. 786', 'Morning Raga', 'Hitler', 'Anjaneyulu', 'Khaidi Garu', 'Thimiru', 'Loafer', 'Collector Garu', 'Tej I Love U', 'Winner', 'Anveshana', 'Ism', 'Abhinetri', 'Allari Ramudu', 'Devadasu', 'Kodama Simham', 'April 1 Vidudala', 'Lankeshwarudu', 'Kondaveeti Donga', 'O Pitta Katha', 'Mutamestri', 'Subbu', 'Pilla Nuvvu Leni Jeevitham', 'Sri Ramulayya', 'Boss', 'Anaganaga Oka Roju', 'Raghavendra', 'Kondaveeti Simhasanam', 'Cinema Chupista Maava', 'Sri Jagadguru Adi Shankara', 'Hawaa', 'Toofan', 'Ongole Githa', 'Chukkallo Chandrudu', 'Indrudu Chandrudu', 'Sankranthi', 'Aa Okkati Adakku', 'Eeshwar', 'Ratchakan', 'Maruthu', 'Yamudiki Mogudu', 'Police Police', 'Evvarikee Cheppoddu', 'Sudigaadu', 'Rama Rama Krishna Krishna', 'Geethanjali', 'Padamati Sandhya Ragam', 'Sri Manjunatha', 'Vennela', 'Jaguar', 'Marshal', 'Master', 'Maska', 'Assembly Rowdy', 'Mehbooba', 'Sneham Kosam', 'Sindhu Bhairavi', 'Adhinayakudu', 'Lakshyam', 'Adavi Ramudu', 'Kunti Puthrudu', 'Mathangi', 'Brahma', 'Alludugaru', 'Oka Chinna Viramam', 'Nenu Lenu', 'Mrugaraaju', 'Bharani', 'Dil', 'Ullasanga Utsahanga', 'Kedi', 'Shock', 'Jyo Achyutananda', 'Mithunam', 'Palasa 1978', 'Maro Charithra', 'Pelli Pustakam', 'Boy', 'Yamaleela', 'Suryavamsam', 'Kaakki Sattai', 'Ammoru', 'Ninnu Choodalani', 'Premante Idera', 'Devadasu', 'Ninaithale Inikkum', 'Jayam', 'Mugguru', 'Ganesh', 'Arjun Reddy', 'Vangaveeti', 'Chandamama Kathalu', 'Chandamama', 'Rowdy Fellow', 'Shirdi Sai', 'Sisindri', 'Manasantha Nuvve', 'Seetharamaiah Gari Manavaralu', 'Bhale Manchi Roju', 'Devi Putrudu', 'Super Duper', 'Subhash Chandra Bose', 'Hyderabad Blues 2', 'Vijetha', 'Veera Bhoga Vasantha Rayalu', 'Tik Tik Tik', 'Detective Naarada', 'Kalyana Vaibhogame', 'Heza', 'Narthanasala', 'Nenunnanu', 'Ganesh', 'Veedevadandi Babu', 'Sirivennela', 'Routine Love Story', 'Intlo Illalu Vantaintlo Priyuralu', 'Guna 369', 'Anandam', 'Masala', 'Entha Manchivaadavuraa', 'Ruler', 'Om Namo Venkatesaya', 'Gundello Godari', 'Rowdy Gari Pellam', 'Paper Boy', 'Mister', 'Raju Gari Gadhi', 'Thodarum', 'Allari Mogudu', 'Nirnayam', 'Dharma Bhai', 'Software Sudheer', 'Bhageeratha', 'Azaad', 'Minugurulu', 'Raaja Paarvai', 'Vijayendra Varama', 'Mogudu', 'Jayam Manadera', 'Oxygen', 'Athaku Yamudu Ammayiki Mogudu', 'Sindhooram', 'Bezawada', 'Satyam', 'Avunu Valliddaru Ishtapaddaru', 'Baladoor', '2 Hours Love', 'Sakalakala Vallavan', 'MLA', 'Appula Appa Rao', 'Radha', 'Ladies Tailor', 'Abhilasha', 'Srimannarayana', 'Katha Screenplay Darsakatvam: Appalaraju', 'Chandralekha', 'Maharadhi', 'Speedunnodu', 'Subhalekha', 'Asura', 'Palnati Brahmanayudu', '@ Nartanasala', 'Nuvvu Nenu', 'Rowdy Mogudu', 'Vijetha', 'Ravoyi Chandamama', 'Dream', 'Preminchukundam Raa', 'Vasantham', 'Chanti', 'Bobbili Raja', 'Kataka', 'Dongala Mutha', 'Chitemma Mogudu', 'Subha Sankalpam', 'Maa Inti Katha', 'W/o Ram', 'James Bond', 'Padmavyuham', 'Avunu', 'Veerabhadra', 'Iddaru Mitrulu', 'Singham123', 'Anaamika', 'Sasirekha Parinayam', 'Bendu Apparao RMP', 'Rajaratha', 'Danger', 'Andari Bandhuvaya', 'Seenu', 'Janda Pai Kapiraju', 'Deyyam', 'Rowdy Alludu', 'Krishna Aur Kans', 'Seema Tapakai', 'Mahathma', 'Baanam', 'Bhai', 'Itlu Sravani Subramanyam', 'Sathyam', 'Bhale Ramudu', 'Pressure Cooker', 'Ranam', 'Aavida Maa Aavide', 'Alavuddinum Athbutha Vilakkum', 'Naa Mogudu Nanke Sontham', 'Sri Anjaneyam', 'Chiru Navvuto', 'Operation Gold Fish', 'Subrahmanyapuram', 'Baava', 'Veera Prathap', 'Courier Boy Kalyan', 'Jabardasth', 'Pellam Oorelithe', 'Hanuman Junction', 'Money', 'Ninnu Thalachi', 'Jayammu Nischayammuu Raa', 'A Film by Aravind', 'Ye Mantram Vesave', 'Bhakta Prahlada', 'Souryam', 'Blade Babji', 'Devi', 'Gulabi', 'Rajendrudru Gajendrudru', 'Lovely', 'Adhirindhi Alludu', 'Andhrudu', 'Malliswari', 'Bluff Master', 'Aatagadharaa Siva', 'Rechipo', 'Kadhal Sadugudu', 'Ra Ra Krishnayya', 'Nuvvu Vasthavani', 'Prathigna', 'Life Before Wedding', 'Silly Fellows', 'Donga Police', 'Sundara Kanda', 'Chitram Bhalare Vichitram', 'Ninne Premistha', 'Sahasa Veerudu Sagara Kanya', 'Bhookailas', 'Antham', 'Ami Thumi', 'Oka Manasu', 'Aatadista', 'Poola Rangadu', 'Kitakitalu', 'Money Money', 'Prema Katha', 'Enga Veetu Pillai', 'Missamma', 'Sitaramaraju', 'Desa dimmari', 'Sparsha', 'Case No. 666/2013', 'I Love You', 'Nayaki', 'Ee Rojullo', 'Kamma Rajyam Lo Kadapa Reddlu', 'Mugguru Monagallu', '24 Kisses', 'Next Enti?', 'Naa Bangaaru Talli', 'Anthaka Mundu Aa Tarvatha', 'Edadugula Bandham', 'Naa Nuvve', 'All the Best', 'Ranga (S.S.L.C)', 'Maanavudu Daanavudu', 'Athanokkade', 'Seema Sastry', 'Amma Cheppindi', 'Kalyanaraman', 'Sankham', 'Ride', 'Ave Kallu', 'Suryakantham', 'Bhale Dongalu', 'Kousalya Krishnamurthy', 'Andhhagadu', 'Okka Ammayi Thappa', 'Bheemli Kabadi Jattu', 'Naa Ishtam', 'Saptapadhi', 'Voter', 'Sankarabharanam', 'Chaarulatha', 'Prema Kavali', 'Ontari', 'Killer', 'Mr. Pellam', 'Ammammagarillu', 'Brand Babu', 'Bama Vijayam', 'Mitrudu', 'Mr. Medhavi', 'Dharma Chakram', 'Chettu Kinda Pleader', 'Hippi', 'Aha Naa Pellanta', 'Veta', 'Aatagallu', 'Thikka', 'Dorasani', 'Allari Bullodu', 'Peddarikam', 'Kalathur Kannamma', 'Raju Gadu', 'Guntur Talkies', 'Kshemanga Velli Labhamga Randi', 'Kotha Janta', 'Iddari Lokam Okate', 'Eduruleni Manishi', 'Mathru Devo Bhava', 'Kittu Unnadu Jagratha', 'Ice Cream', 'Nuvva Nena', 'Rama Chakkani Seetha', 'Jappanil Kalyanaraman', 'Idaya Kovil', 'Jaihind 2', 'Nuvvila', 'Srivaariki Premalekha', 'Mard Ki Zabaan 2', 'Hyderabad Nawabs', 'Veede', 'Nari Nari Naduma Murari', 'Mayalodu', 'Raja Vikramarka', 'ABCD: American-Born Confused Desi', 'Alludu Diddina Kapuram', 'Hare Ram', 'Yamagola', 'Meendum Kokila', 'M Dharmaraju M.A.', 'Prema Panjaram', 'Tenali Ramakrishna BA.BL', 'Gowtham SSC', 'Kanchana', 'Mayuri', 'Swayamvaram', 'Seetharamula Kalyanam Lankalo', 'Pavitra Bandham', 'Bala Gopaludu', 'Yuvakudu', 'Jayammu Nischayammu Raa!', 'Manchi Donga', 'Big Boss', 'Idam Jagath', 'Happy Wedding', 'Nuvvu Leka Nenu Lenu', 'Thoongathey Tambi Thoongathey', 'Yamudiki Mogudu', 'Bommana Brothers Chanadana Sisters', 'Rowdy Inspector', 'Sontham', 'Annai Oru Aalayam', 'Wanted', 'Panchakshari', 'Snehamante Idera', 'Soggadi Pellam', 'Bhale Donga', '1st Rank Raju', 'Dongodu', 'Devullu', 'Sardar Papa Rayudu', 'Srinivasa Kalyanam', 'Pourudu', 'Amrutha Ramam', 'Prematho Raa', 'Bumper Offer', 'Mangamma Gari Manavadu', 'Yudda Bhoomi', 'Rayalaseema Love Story', 'Soggadu', 'Budget Padmanabham', 'Swargam Narakam', 'Manmatha Leelai', 'Emo Gurram Egaravachu', 'Ayyare', 'Valayam', 'Babai Abbai', 'Two Town Rowdy', 'State Rowdy', 'Aradhana', 'Idhi Mamulu Prema Katha Kaadu', 'Rey', 'Prema Yuddham', 'Samudram', 'Kabaddi Kabaddi', 'Sruthilayalu', 'Rikshavodu', 'Muthyala Muggu', 'Napoleon', 'Bazaar Rowdy', 'Pelli Sandadi', 'Idi Ma Prema Katha', 'Babu Baga Busy', 'Rogue', 'Bhanumathi & Ramakrishna', 'S. P. Parasuram', 'Ala Ela', 'Kevvu Keka', 'Mantra', 'Runam', 'Choopulu Kalasina Subhavela', 'Manoharam', 'Agni', 'Appu Chesi Pappu Koodu', 'Siddu from Srikakulam', 'Nachavule', 'Yagnam', 'Mee Sreyobhilashi', 'Kadapa Redamma', 'Ghatotkachudu', 'Jagadeka Veeruni Katha', 'Kanyasulkam', 'Snehamera Jeevitham', 'Kobbari Matta', 'Dhruvanakshatram', 'Per Sollum Pillai', 'Vivaha Bhojanambu', 'Shanti Kranti', 'Sukumarudu', 'Fitting Master', 'Operation Duryodhana', 'Prema', 'Mooga Manasulu', 'Ontari Poratam', 'Tandra Paparayudu', 'Nireekshana', 'Premaabhishekam', 'Savaari', 'Surya IPS', 'Maharasan', 'Chakravarthy', 'Lover', 'Jadoogadu', 'Allari Alludu', 'Pandava Vanavasamu', 'Mechanic Alludu', 'Kondaveeti Simham', 'Malini 22', 'Bobbili Simham', 'Show', 'Varasudochhadu', 'Family Circus', 'Edurinti Mogudu Pakkinti Pellam', 'Adavi Ramudu', 'Donga', 'Aakhari Poratam', 'Rough', 'Paathshala', 'Kathi Kanta Rao', 'Pelli Chesukundam', 'Black Tiger', 'Sri Krishna Pandaveeyam', 'Nakshatram', 'Subhalagnam', 'Hai Hai Nayaka', 'Om Shanti', 'Pellaina Kothalo', 'Anukunnadi Okkati Ayyindhi Okati', 'Grahanam', 'Chinnabaabu', 'Karthavyam', 'Raakshasudu', 'Neeya', 'D for Dopidi', 'Mugguru Kodukulu', 'Balachandrudu', 'Vinodam', 'Vijay', 'Sri Shirdi Saibaba Mahathyam', 'Anthuleni Katha', 'Mithai', 'Tiger', 'Luv U Alia', 'Brother of Bommali', 'Mr. Pellikodukku', 'Broker', 'Current', 'Evadi Gola Vadide', 'Bangaru Bullodu', 'Karma', 'Murali Krishnudu', 'Varasudu', 'Seetha Rama Kalyanam', 'Rendu Rella Aaru', 'Sampoorna Ramayanam', 'Chuttalabbayi', 'Columbus', 'Raagala 24 Gantallo', 'Andala Ramudu', 'Brahma Puthrudu', 'Alibaba Aradajanu Dongalu', 'Thipparaa Meesam', 'Sitaara', 'Chettaniki Kallu Levu', 'Manasuku Nachindhi', 'Om 3D', 'Action', 'Dongala Bandi', 'Sultan', 'Love Today', 'Samanyudu', 'Sathruvu', 'Gandeevam', 'Punnami Naagu', 'Jyothi Lakshmi', 'Avakai Biryani', 'Lorry Driver', 'Padaharella Vayasu', 'Prananiki Pranam', 'Akasa Veedhilo', 'Totti Gang', 'Allari', 'Savitri', 'Peddinti Alludu', '143', 'Superman', 'Abhinandana', 'Justice Chowdhary', 'Gharana Bullodu', 'Intlo Ramayya Veedilo Krishnayya', 'Anna Thamudu', 'Krishnamma Kalipindi Iddarini', 'Nandhi', 'Sons of Ram', 'Kondapalli Raja', 'Bava Nachadu', 'Seema Simham', 'Sandade Sandadi', 'Donga Ramudu', 'Vetagadu', 'Sher', 'Kaamannana Makkalu', 'Vinayakudu', 'Dongaata', '90 ML', 'Kathanam', 'Ramudu Bheemudu', 'Patel S.I.R', 'Nagarahaavu', 'Selfie Raja', 'Wish You Happy Breakup', 'Lovers', 'Ramudochhadu', 'Radha Gopalam', 'Donga Mogudu', 'Rangula Raatnam', 'Adda', 'Kalidasu', 'Ela Cheppanu', 'Vishwanatha Nayakudu', 'Sri Madvirat Veera Brahmendra Swamy Charitra', 'Brahma', 'Madatha Kaaja', 'Dollar Dreams', 'Betting Bangarraju', 'Athili Sathibabu LKG', 'Vinara sodara veera kumara', 'Tenali Ramakrishna', 'Maharshi', 'Idi Kathakaadu', 'Agni Nakshatram', 'Bandipotu', 'Onamalu', 'Vaana', 'Jodi', 'Madhumasam', 'Bhakta Prahlada', 'Team 5', 'Sandhippoma', 'Ice Cream 2', 'Okkadine', 'Kiccha Huccha', 'Visakha Express', 'Aaviri', 'Brindavanam', 'Rudranetra', 'Kaali', 'Bobbili Puli', 'Manavoori Pandavulu', 'Next Nuvve', 'Joru', 'Ko antey koti', 'Kalyan Ram Kathi', 'Priyamyna Neeku...', 'Vamsodharakudu', 'Super Police', 'Bamma Maata Bangaru Baata', 'Mantra 2', 'Prema Ishq Kaadhal', 'Galipatam', 'Katha', 'Peddannayya', 'Lakshmi Kalyanam', 'Avunanna Kadanna', 'Bava Bava Panneeru', 'Balakrishnudu', 'Partha', 'Athade Oka Sainyam', 'Rakshana', 'Garam', 'Raja Cheyyi Vesthe', \"It's My Love Story\", 'Okariki Okaru', 'Kurradu', 'Homam', 'Raahu', 'Gulebakavali Katha', 'Nene Raju Nene Manthri', 'Osey Ramulamma', 'Trinetrudu', 'Oka Oori Katha', 'Bhale Manchi Chowka Beram', 'Bhairava Geetha', 'Naanna Nenu Naa Boyfriends', 'Basanti', 'Mansara', 'Gaayam 2', 'Village lo Vinayakudu', 'Abbaigaru', 'Ammo Okato Tariku', 'Raksha', 'Stoovertpuram Police Station', 'Srimanthudu', 'Lakshmi Raave Maa Intiki', 'Mr. Theertha', 'Ee Abbai Chala Manchodu', 'Yemaindi Ee Vela', 'Aadu Puli Attam', 'Subhakankshalu', 'Samsaaram Oka Chadarangam', 'Intinti Bhagavatham', 'Driver Ramudu', 'Saradaga Kasepu', 'Snehithuda', 'Kaasi', 'Prema Pipasi', 'Uyarntha Ullam', 'Pekata Paparao', 'Praja pratinidhi', 'Meghasandesam', 'Joker', 'Marana Mrudangam', 'Maa Bhoomi', 'Kerintha', 'Tripura', '123', 'Jaffa', 'Jai Bolo Telangana', 'Nee Sneham', 'Maro Charitra', 'Aswamedham', 'Rachayitha', 'Terror', 'Avunu Part 2', 'Kashi from Village', 'Aadu Magaadra Bujji', 'Papikondalu', 'RDX Love', 'Rajdooth', 'Classmates', 'Oka Radha Iddaru Krishnulu', 'Sri Kanaka Mahalakshmi Recording Dance Troupe', 'Sri Krishnarjuna Yudham', 'Rambantu', 'Intlo Dayyam Nakemi Bhayam', 'Amrutham Chandamama Lo', 'Nirmala Convent', 'Gruha Pravesam', 'Beach Road Chetan', 'Undiporaadhey', 'Sardar Dharmanna', 'Biwi No. 2', 'Muddula Mavayya', 'Parugo Parugu', 'Top Hero', 'Allari Priyudu', 'Jebu Donga', 'Devatha', 'Thayillamal Nannilai', 'Nandini Nursing Home', 'Nenu', 'Muddula Mogudu', 'Dhairyam', 'Pravarakyudu', 'Choosi Choodangaane', 'Burra katha', 'Mayabazaar', 'Panduranga Mahatyam', 'Ankuram', 'Manthrigari Viyyankudu', '365 Days', 'Maa Alludu Verygood', 'Nampalli Nagu', 'Sambaram', 'Kurukshetramu', 'Chanakya Chandragupta', 'Parthal Pasi Theerum', 'Krishnashtami', 'Malaikottai', 'Thakita Thakita', 'Inkosari', 'Kalusukovalani', 'Raam', 'Neeku Nenu Naaku Nuvvu', 'Golmaal Govindam', 'Taskara', 'SMS - Siva Manasulo Sruthi', 'Nammanna', 'Neeku Naaku Dash Dash', 'Sneha Geetham', 'Baachi', 'Ammo Bomma', 'Swagatam', 'Evadithe Nakenti', 'Mosagalaku Mosagaadu', 'Kalyana Ramudu', 'Chinnabbayi', 'Ugranarasimham', 'Paramanandayya Shishyula Katha', 'Adhugo', 'Seethamma Andalu Ramayya Sitralu', 'Run', 'Raaj', 'Takkari', 'Victory', 'Screenplay of an Indian Love Story', 'Chal Mohana Ranga', 'Andha Oru Nimidam', 'Maavichiguru', 'Sri Krishnarjuna Vijayam', 'Gudachari No.1', 'Billa Ranga', 'Vicky Dada', 'Kondura (The Sage from the Sea)', 'Money Money More Money', 'President Gari Pellam', 'Evaraina Eppudaina', 'Maro Monagadu', 'Jakkanna', 'Muvva Gopaludu', 'Ninney Ishta Paddaanu', '9 Nelalu']\n"
     ]
    }
   ],
   "source": [
    "list_of_all_movies = data['Movie'].tolist()\n",
    "print(list_of_all_movies)"
   ]
  },
  {
   "cell_type": "code",
   "execution_count": 12,
   "id": "96202f27",
   "metadata": {},
   "outputs": [
    {
     "name": "stdout",
     "output_type": "stream",
     "text": [
      "['Prema Kavali', 'Prema Katha']\n"
     ]
    }
   ],
   "source": [
    "#all the close matches that are in the data set\n",
    "all_close_matches=difflib.get_close_matches(movie_name,list_of_all_movies);\n",
    "print(all_close_matches)"
   ]
  },
  {
   "cell_type": "code",
   "execution_count": 13,
   "id": "27168afd",
   "metadata": {},
   "outputs": [
    {
     "name": "stdout",
     "output_type": "stream",
     "text": [
      "Prema Kavali\n"
     ]
    }
   ],
   "source": [
    "#the first in the list is the very close match\n",
    "close_match=all_close_matches[0];\n",
    "print(close_match)"
   ]
  },
  {
   "cell_type": "code",
   "execution_count": 14,
   "id": "de93689d",
   "metadata": {},
   "outputs": [
    {
     "name": "stdout",
     "output_type": "stream",
     "text": [
      "940    940\n",
      "Name: index, dtype: int64\n"
     ]
    }
   ],
   "source": [
    "#getting the index \n",
    "index_of_the_movie=data[data.Movie==close_match][\"index\"]\n",
    "print(index_of_the_movie)"
   ]
  },
  {
   "cell_type": "code",
   "execution_count": 15,
   "id": "fe6bb6f6",
   "metadata": {},
   "outputs": [
    {
     "name": "stdout",
     "output_type": "stream",
     "text": [
      "940\n"
     ]
    }
   ],
   "source": [
    "#the above output is in the form of a list i.e 144 144\n",
    "#inorder to get only one we use values[0]\n",
    "index_of_the_movie=data[data.Movie==close_match][\"index\"].values[0]\n",
    "print(index_of_the_movie)"
   ]
  },
  {
   "cell_type": "code",
   "execution_count": 16,
   "id": "f567182c",
   "metadata": {},
   "outputs": [
    {
     "name": "stdout",
     "output_type": "stream",
     "text": [
      "[(0, 0.03430795841893329), (1, 0.09511195857674826), (2, 0.058552408571184565), (3, 0.04469277271095233), (4, 0.03973470673477822), (5, 0.02177817867852071), (6, 0.04558972706389338), (7, 0.06936215215319724), (8, 0.04846713004968673), (9, 0.035349853661421585), (10, 0.061037480786342774), (11, 0.06726641254422122), (12, 0.035392838587153586), (13, 0.03896725278925161), (14, 0.04361181419792991), (15, 0.023264825688027256), (16, 0.029178729641654678), (17, 0.04052864091651917), (18, 0.006293917895576081), (19, 0.00852014269769809), (20, 0.07246132104639665), (21, 0.016799437716901403), (22, 0.03789366935501707), (23, 0.06435711835442062), (24, 0.055321667737826284), (25, 0.011682351134001255), (26, 0.01957769602249658), (27, 0.03111599927305862), (28, 0.03458716891386232), (29, 0.06085541109137174), (30, 0.0772657630264815), (31, 0.02556941208441166), (32, 0.03194208597705869), (33, 0.033652177178800965), (34, 0.09099133998282036), (35, 0.01848855927205291), (36, 0.029195449578769992), (37, 0.034052485718741005), (38, 0.06832426353811134), (39, 0.07094452800540434), (40, 0.01600760359544999), (41, 0.0), (42, 0.043524981016561916), (43, 0.03280904724432377), (44, 0.05930963028189036), (45, 0.0069740898695519835), (46, 0.05396641208094416), (47, 0.02624475120533481), (48, 0.01581118745227426), (49, 0.09233220262716374), (50, 0.010557769382038317), (51, 0.05516091068328044), (52, 0.026339165217284608), (53, 0.014713996702482031), (54, 0.07557262813289799), (55, 0.00946006810256334), (56, 0.04537166895509386), (57, 0.08040104213137997), (58, 0.02977409009890486), (59, 0.027965359819272444), (60, 0.019821011745615714), (61, 0.02261410059648964), (62, 0.012810769932279382), (63, 0.012253148944384177), (64, 0.037963577014456025), (65, 0.04320171685687981), (66, 0.03732820602636797), (67, 0.016815607227856737), (68, 0.04301337295116068), (69, 0.024688791987977507), (70, 0.023633872636288727), (71, 0.006735892200107823), (72, 0.0114520361906659), (73, 0.032358515693159715), (74, 0.07209344886127222), (75, 0.01271448169880001), (76, 0.06662679003296122), (77, 0.015011637554935758), (78, 0.023499172300001498), (79, 0.06833750123314773), (80, 0.05562073945658695), (81, 0.010452422010000816), (82, 0.024222957163189677), (83, 0.03867482394688667), (84, 0.035350600148437536), (85, 0.022133845456906664), (86, 0.07434570797835012), (87, 0.05631437616673786), (88, 0.023904468594149488), (89, 0.02267698810083325), (90, 0.004668363768215771), (91, 0.016239085967826708), (92, 0.05192213505894645), (93, 0.05776390203469256), (94, 0.06980413591547237), (95, 0.05696288736644753), (96, 0.03513873272872672), (97, 0.0740946819358814), (98, 0.036338394645252965), (99, 0.04386134207593389), (100, 0.02372061331732679), (101, 0.013951379913814586), (102, 0.04409799100873379), (103, 0.05299356883647703), (104, 0.06818628439817769), (105, 0.028358109597787475), (106, 0.021956616277538983), (107, 0.01126843781517873), (108, 0.016934714455625156), (109, 0.026767602233749997), (110, 0.020738393658042593), (111, 0.027879302895542454), (112, 0.05323074992517113), (113, 0.049189490518612565), (114, 0.0496225901946478), (115, 0.03107392922935247), (116, 0.028097865527507367), (117, 0.023532882765409928), (118, 0.024700346872679656), (119, 0.005428348384887355), (120, 0.03554932763207837), (121, 0.031752757845371196), (122, 0.09406355671498147), (123, 0.10480438059774419), (124, 0.026552750419616473), (125, 0.08329797177370449), (126, 0.04794694755538015), (127, 0.0889920269869054), (128, 0.0598165550568136), (129, 0.021642559691442326), (130, 0.04668207752798512), (131, 0.06461941513974707), (132, 0.06581116918080308), (133, 0.06743231632399353), (134, 0.011750202226869547), (135, 0.006761416416751321), (136, 0.017194720494347865), (137, 0.10482531489432195), (138, 0.09806826456204945), (139, 0.016107126166843684), (140, 0.07604107813008548), (141, 0.07126945322890198), (142, 0.0796182517236127), (143, 0.02805236565071473), (144, 0.09055915673207147), (145, 0.04582403115721186), (146, 0.08064013574273723), (147, 0.04376385094656993), (148, 0.08639069484277509), (149, 0.032101628324483066), (150, 0.06175243857604196), (151, 0.03431226587533285), (152, 0.013791807555876886), (153, 0.024298418934751667), (154, 0.030069962287346777), (155, 0.032797224879357816), (156, 0.07582914595631697), (157, 0.008473843447837897), (158, 0.02906491171428921), (159, 0.04057271664106041), (160, 0.0318819336444185), (161, 0.09253205117336147), (162, 0.0048634042307306), (163, 0.010318439998703707), (164, 0.006119863982711539), (165, 0.013798216854835604), (166, 0.02626921522727678), (167, 0.004612834602298368), (168, 0.02019069412649866), (169, 0.018932484469937935), (170, 0.033272320009497945), (171, 0.05571015224489663), (172, 0.031049859479821966), (173, 0.07144944544961139), (174, 0.03662682052462958), (175, 0.04779923921156056), (176, 0.03053917182220616), (177, 0.010766111516947792), (178, 0.12186949820665391), (179, 0.08362651894608558), (180, 0.03506586470655024), (181, 0.055743040836555534), (182, 0.012090101911885798), (183, 0.017116701207863336), (184, 0.011995149944152335), (185, 0.09781180869288249), (186, 0.055473551214542845), (187, 0.05698158608326817), (188, 0.006297689530587804), (189, 0.02671517024672461), (190, 0.05227287035709621), (191, 0.02576434486788715), (192, 0.0589937633511466), (193, 0.06850319897221084), (194, 0.08387249001813264), (195, 0.06982128178239876), (196, 0.05443407203661349), (197, 0.01685834099580851), (198, 0.03769098949451005), (199, 0.057296672914172925), (200, 0.005696947622127243), (201, 0.06601212756781859), (202, 0.034267580926831104), (203, 0.07300302152546839), (204, 0.03178495113623246), (205, 0.02114370375734326), (206, 0.046357185912953666), (207, 0.049930942294189214), (208, 0.0), (209, 0.04854504782048745), (210, 0.06091359399421646), (211, 0.016320629254434144), (212, 0.0), (213, 0.019806595346752182), (214, 0.0312227277650534), (215, 0.030136931582238513), (216, 0.04283048271786835), (217, 0.07225781206806221), (218, 0.04131251755406287), (219, 0.0632368835431149), (220, 0.0685448036169314), (221, 0.004825190504850409), (222, 0.07790477636252961), (223, 0.01967790365879589), (224, 0.053989119599909534), (225, 0.046126833835749136), (226, 0.044812190390432785), (227, 0.019053518463589082), (228, 0.05442763986494661), (229, 0.057920488068169934), (230, 0.00716638769290297), (231, 0.017540358222536887), (232, 0.021515762664921712), (233, 0.053145552761250256), (234, 0.0), (235, 0.13135633300258107), (236, 0.010808598030861136), (237, 0.026359150990730672), (238, 0.048933246413034925), (239, 0.03550822330465419), (240, 0.01536897077015104), (241, 0.05222658408600274), (242, 0.06274229931783595), (243, 0.01745209470637391), (244, 0.03755952901531255), (245, 0.06407479384076314), (246, 0.1126732943057932), (247, 0.029283758339079945), (248, 0.02275804728624218), (249, 0.046426707928786955), (250, 0.08919122341052566), (251, 0.03602985189808047), (252, 0.016414893614290875), (253, 0.011543612881826773), (254, 0.0716475703086613), (255, 0.03456056035704483), (256, 0.025264810432273445), (257, 0.02943729408890901), (258, 0.09186003246962798), (259, 0.05403364952929662), (260, 0.012043482968170812), (261, 0.027055312035766745), (262, 0.07487781071015091), (263, 0.055090617152165816), (264, 0.045695297519699654), (265, 0.03400284049414426), (266, 0.07208166262492122), (267, 0.03969426614595856), (268, 0.011568611634654743), (269, 0.08677824416817667), (270, 0.0391699757879084), (271, 0.06290121998096147), (272, 0.05754850148733516), (273, 0.039197797466771156), (274, 0.018096835999557977), (275, 0.05183720722685416), (276, 0.05050382686480727), (277, 0.09087896384275111), (278, 0.076412015901318), (279, 0.04127304159766904), (280, 0.0738614573287763), (281, 0.04973083650935062), (282, 0.0384416387559056), (283, 0.07538382728115987), (284, 0.0755777172074362), (285, 0.08761300975692428), (286, 0.03578955795100698), (287, 0.09429734741777068), (288, 0.022426080289900365), (289, 0.0), (290, 0.03678231899632873), (291, 0.04754214992262965), (292, 0.04674501005588269), (293, 0.027087875516441224), (294, 0.10558284688746024), (295, 0.0214483854258013), (296, 0.014345007040223507), (297, 0.04774898009070637), (298, 0.07468824312531272), (299, 0.025858128021757486), (300, 0.06517745197636143), (301, 0.09571704803316672), (302, 0.07983190037507423), (303, 0.02020710127900365), (304, 0.10884794251992373), (305, 0.023589774882601732), (306, 0.030489554528844724), (307, 0.038861493517739196), (308, 0.021379324657034564), (309, 0.06045454685295912), (310, 0.07439736271477754), (311, 0.09666137463866903), (312, 0.04004491908149527), (313, 0.0), (314, 0.04133643861182508), (315, 0.05199488187584157), (316, 0.029829195791773563), (317, 0.026565280521882135), (318, 0.022685231155048623), (319, 0.0), (320, 0.044667119513277544), (321, 0.08977911245051612), (322, 0.0979814742674127), (323, 0.015997618827767852), (324, 0.05442531625036871), (325, 0.0), (326, 0.02233105324331571), (327, 0.028278164319184264), (328, 0.022537174904297463), (329, 0.06416257761017981), (330, 0.04809431810662183), (331, 0.02269048728339017), (332, 0.054841634638126927), (333, 0.09285001755589664), (334, 0.0398058403724612), (335, 0.0077104690937115), (336, 0.02371950201684511), (337, 0.0234009252077527), (338, 0.02931860908362554), (339, 0.026179196541887693), (340, 0.08829249254847743), (341, 0.02011454341434984), (342, 0.026589381341083917), (343, 0.0649691981332144), (344, 0.006664436447792258), (345, 0.014594780115798225), (346, 0.060828700603088384), (347, 0.041755119998802076), (348, 0.0), (349, 0.03047928547393836), (350, 0.021419748741323463), (351, 0.046836889326260636), (352, 0.04261052448616193), (353, 0.04400282073061279), (354, 0.008669854958003336), (355, 0.03416233347784959), (356, 0.03172657286804084), (357, 0.0), (358, 0.02816311061813084), (359, 0.05111642162298968), (360, 0.028518180115736758), (361, 0.09650985059494588), (362, 0.00951449523591871), (363, 0.045889798256406614), (364, 0.04693385304219559), (365, 0.020425113756791992), (366, 0.01458006219094432), (367, 0.02162043224228839), (368, 0.011877144965912637), (369, 0.011550684642704952), (370, 0.013806787743592955), (371, 0.040623205487668006), (372, 0.03259741895367325), (373, 0.09134149540797637), (374, 0.029226976770537514), (375, 0.02336914167674759), (376, 0.004746338396236956), (377, 0.014652787603030546), (378, 0.06942945502839425), (379, 0.08568908621293707), (380, 0.07321633986746198), (381, 0.07101623694859896), (382, 0.0970664610353249), (383, 0.04363139677919066), (384, 0.050809442751301885), (385, 0.03648126458243936), (386, 0.007162014299155962), (387, 0.0401336975452893), (388, 0.018993315701714884), (389, 0.05157382993518734), (390, 0.06997180220943933), (391, 0.03413897544073164), (392, 0.029164590133384245), (393, 0.027920378638106), (394, 0.005318908017520635), (395, 0.018347899546058498), (396, 0.07043679828437271), (397, 0.0), (398, 0.04578620074601544), (399, 0.0194970101307552), (400, 0.006760739573174409), (401, 0.03572726815688111), (402, 0.14085602960208246), (403, 0.013449838722310597), (404, 0.07140606427340869), (405, 0.03800365612100035), (406, 0.06345438384808277), (407, 0.03824225681044213), (408, 0.07306702419284256), (409, 0.06288936546309547), (410, 0.12252421797269249), (411, 0.03187519128032654), (412, 0.09739633996485135), (413, 0.07436094443650548), (414, 0.050288314291006705), (415, 0.0416835545591495), (416, 0.050543209870413865), (417, 0.014504185971459246), (418, 0.031282043169145304), (419, 0.010015252780397544), (420, 0.1060484187689132), (421, 0.006114756569507607), (422, 0.022074998050131408), (423, 0.028240970670541814), (424, 0.04877041239761683), (425, 0.059006243763236), (426, 0.03785023762716829), (427, 0.038818259385296164), (428, 0.06818602908917626), (429, 0.10668149425163884), (430, 0.042904969666027436), (431, 0.057578236776712845), (432, 0.061820460719443734), (433, 0.05864423015455564), (434, 0.004486104925953807), (435, 0.06524579955446974), (436, 0.07255835235931991), (437, 0.04417781300714354), (438, 0.07000225584502114), (439, 0.06681626959779083), (440, 0.014452063772959111), (441, 0.09740129961262714), (442, 0.021059373233305114), (443, 0.053323309427001434), (444, 0.048130285912550176), (445, 0.05576286443397799), (446, 0.01469225139838191), (447, 0.043967476035786636), (448, 0.006567190533317584), (449, 0.0), (450, 0.01977187446844774), (451, 0.06305533977382775), (452, 0.0647694784152804), (453, 0.039685203085222026), (454, 0.040708276722293574), (455, 0.011280500341737556), (456, 0.06157227407825992), (457, 0.0056018635334767605), (458, 0.031726285961700094), (459, 0.10822348233800279), (460, 0.06634897894544058), (461, 0.021634332969539854), (462, 0.02603864085653579), (463, 0.10628368550182773), (464, 0.023608089874193293), (465, 0.06310103390730987), (466, 0.005669708402958685), (467, 0.016912310774325708), (468, 0.016261870301357707), (469, 0.08508601113082774), (470, 0.02521367858203992), (471, 0.014985034232942803), (472, 0.0), (473, 0.012782428955523171), (474, 0.051853860045094576), (475, 0.006190573609931798), (476, 0.0784038308382139), (477, 0.05938303995853113), (478, 0.0486460945377621), (479, 0.075022276424315), (480, 0.0494337005631075), (481, 0.00620879058996336), (482, 0.018384527828651867), (483, 0.04180938457282323), (484, 0.0054261765301284424), (485, 0.02341732170963773), (486, 0.015126747435623773), (487, 0.010463219756678348), (488, 0.11587374923576362), (489, 0.036068979467682186), (490, 0.06687914700319046), (491, 0.03292056514458572), (492, 0.030371798878710134), (493, 0.035160292427359074), (494, 0.07758089201009734), (495, 0.007420274290611882), (496, 0.0076111974211745875), (497, 0.032999414075491756), (498, 0.04171017324273998), (499, 0.11446657698366206), (500, 0.027045558319970527), (501, 0.037184518213602705), (502, 0.01714266977381442), (503, 0.01836769158429038), (504, 0.006517683799632047), (505, 0.09304392059726418), (506, 0.02321264690993383), (507, 0.013490958321099734), (508, 0.0), (509, 0.07688189216546701), (510, 0.023311942898890107), (511, 0.024178632360473802), (512, 0.0), (513, 0.10181255005529505), (514, 0.038395308172057836), (515, 0.06355616852527747), (516, 0.04115326511566427), (517, 0.014040507665152734), (518, 0.10443291657994662), (519, 0.007666469843206619), (520, 0.02567658039025851), (521, 0.038573842484485074), (522, 0.07650287606938581), (523, 0.045409479943610824), (524, 0.044557635511714155), (525, 0.125336129520792), (526, 0.12599822778232986), (527, 0.027707536814577997), (528, 0.0), (529, 0.006414536281590968), (530, 0.0), (531, 0.05840810840488899), (532, 0.03192513608858211), (533, 0.05134121682818378), (534, 0.0344121293322393), (535, 0.06326847710472842), (536, 0.06030843149907268), (537, 0.020929385869790464), (538, 0.10575766937747808), (539, 0.064652220528675), (540, 0.0592979293773169), (541, 0.02277327093709655), (542, 0.05294162218605808), (543, 0.08675664975236193), (544, 0.03242263720895058), (545, 0.02413526867504214), (546, 0.00413923888813071), (547, 0.06147906039561693), (548, 0.033540969467523), (549, 0.0702172204162844), (550, 0.0), (551, 0.07140012194854903), (552, 0.03559589516014554), (553, 0.049472749793388976), (554, 0.029231098490160905), (555, 0.06776191880863029), (556, 0.018238335987856152), (557, 0.09283382172020466), (558, 0.06885361286063676), (559, 0.02674948497595801), (560, 0.0643820607691344), (561, 0.0472003675813821), (562, 0.029374374876241047), (563, 0.0), (564, 0.035790020274330814), (565, 0.08534293798592421), (566, 0.08281425923692248), (567, 0.01702494058267318), (568, 0.0), (569, 0.016109569849456273), (570, 0.03439001191487558), (571, 0.03560688226101448), (572, 0.07399963806374515), (573, 0.10817089870892876), (574, 0.052208336471361486), (575, 0.07139479796746923), (576, 0.061131932268144604), (577, 0.01633942661410355), (578, 0.03212520989804398), (579, 0.04735469135274328), (580, 0.005340814581627735), (581, 0.013422247156159781), (582, 0.0249805446975523), (583, 0.0), (584, 0.04884168304567213), (585, 0.1125568580650928), (586, 0.05294135957721951), (587, 0.09430084542697352), (588, 0.06988999081874844), (589, 0.038812017838502536), (590, 0.10423667809693664), (591, 0.0318859739677986), (592, 0.03869611972047789), (593, 0.03001953380294419), (594, 0.03231101413849774), (595, 0.04302313778770204), (596, 0.055003248527850664), (597, 0.03820531829268989), (598, 0.04114219457689264), (599, 0.0), (600, 0.021227853740118166), (601, 0.02201185447901246), (602, 0.025331363831269195), (603, 0.0), (604, 0.05739470217064845), (605, 0.08532930084039067), (606, 0.01786312769710442), (607, 0.0), (608, 0.038456318579486476), (609, 0.013999566812099505), (610, 0.04695037988639757), (611, 0.04372123775466151), (612, 0.05138205454767178), (613, 0.0582274487688494), (614, 0.03218094981386959), (615, 0.035670940778107986), (616, 0.02474079507855158), (617, 0.04188118326757122), (618, 0.020873503246914865), (619, 0.0330399156031555), (620, 0.0), (621, 0.011438398064070385), (622, 0.0), (623, 0.0), (624, 0.029762350922279995), (625, 0.08321397667039612), (626, 0.031042522355193475), (627, 0.012694276753575599), (628, 0.05210728036439565), (629, 0.017393170678440907), (630, 0.141358734296048), (631, 0.014111306432475147), (632, 0.013354218093252181), (633, 0.07969154075907994), (634, 0.030903705069291243), (635, 0.06678934434920586), (636, 0.05436715713930096), (637, 0.02911728745594022), (638, 0.0), (639, 0.02709209896125379), (640, 0.05449801219699013), (641, 0.030884866638920642), (642, 0.05919518110948254), (643, 0.07283785818940443), (644, 0.08544527986727213), (645, 0.0), (646, 0.008822690840703334), (647, 0.022604502522449568), (648, 0.031045956473565006), (649, 0.04042127768469716), (650, 0.081101074029347), (651, 0.04150467878481711), (652, 0.018205087208719176), (653, 0.013087876863326861), (654, 0.10344564871714367), (655, 0.0), (656, 0.10648056449003927), (657, 0.06708213568429185), (658, 0.048098456707612536), (659, 0.08612979437350902), (660, 0.01710580384478511), (661, 0.0), (662, 0.03434968915759819), (663, 0.054084639089197625), (664, 0.05460597036946827), (665, 0.07428886258906231), (666, 0.021881341891831114), (667, 0.03690442961598295), (668, 0.047555806713054705), (669, 0.0), (670, 0.0432881021668731), (671, 0.0), (672, 0.014774719942935537), (673, 0.017379831480192082), (674, 0.07237710398379853), (675, 0.0), (676, 0.04996002346473123), (677, 0.0), (678, 0.014639191622900987), (679, 0.026509103997964495), (680, 0.010794824516765434), (681, 0.052044840558693066), (682, 0.009050142115264611), (683, 0.03060436507256781), (684, 0.0), (685, 0.0), (686, 0.06258989285056998), (687, 0.06617474027552384), (688, 0.052023682279245594), (689, 0.01214933323691054), (690, 0.03150815450106394), (691, 0.04008953768933452), (692, 0.06943127766543056), (693, 0.017422543286387343), (694, 0.11462930887210428), (695, 0.030903072686868805), (696, 0.07271372300075926), (697, 0.09411997103355123), (698, 0.011921884959694668), (699, 0.08357190195467896), (700, 0.04939556257801605), (701, 0.03312740443183189), (702, 0.06238386406254188), (703, 0.013550236230092268), (704, 0.0378913544945324), (705, 0.04549560579630946), (706, 0.06819775872643583), (707, 0.058845244088981945), (708, 0.0), (709, 0.020617567193681262), (710, 0.0), (711, 0.06280694297258815), (712, 0.08132392056698733), (713, 0.054853653182677604), (714, 0.07275389249413702), (715, 0.05748211621862294), (716, 0.050958142408376164), (717, 0.07531061446177256), (718, 0.07420837528036452), (719, 0.03722865761149712), (720, 0.023865928601977796), (721, 0.04426874873540694), (722, 0.02700056786517052), (723, 0.03858063410027751), (724, 0.027472083194198364), (725, 0.0662027828588897), (726, 0.07413484970534807), (727, 0.07904764913645664), (728, 0.005399970312513673), (729, 0.05971373780878782), (730, 0.01918658224803927), (731, 0.022956131246214245), (732, 0.025442775919368166), (733, 0.04809780441103536), (734, 0.04305059779621645), (735, 0.0), (736, 0.07271372300075926), (737, 0.12461681957862204), (738, 0.033597322995063975), (739, 0.006795940379842562), (740, 0.054988103426691526), (741, 0.034233182724165645), (742, 0.0), (743, 0.004918583942787542), (744, 0.05758360915249584), (745, 0.03361673895128672), (746, 0.09101031451513752), (747, 0.017933701710487443), (748, 0.01608426371609768), (749, 0.041778660864681974), (750, 0.005687210675590998), (751, 0.0866557460181167), (752, 0.0168660969593683), (753, 0.009029685187249262), (754, 0.0), (755, 0.04410860280571534), (756, 0.0440407656856831), (757, 0.0), (758, 0.0), (759, 0.06822735437629399), (760, 0.0), (761, 0.008900865197017901), (762, 0.05283193278805839), (763, 0.025320564153446645), (764, 0.020813212855159628), (765, 0.056790148947483486), (766, 0.004370731833183142), (767, 0.08357148305192025), (768, 0.04500984026676473), (769, 0.008846967890464059), (770, 0.04735813919915406), (771, 0.03621973745872843), (772, 0.014707711849907767), (773, 0.06435002512759186), (774, 0.01799578483616282), (775, 0.056555190039751686), (776, 0.0), (777, 0.0), (778, 0.011307205320165492), (779, 0.03100961038961035), (780, 0.020341145826851842), (781, 0.017719024225965427), (782, 0.058340755922299196), (783, 0.11284346485310194), (784, 0.08059812202096972), (785, 0.02829709620959292), (786, 0.035074386596576794), (787, 0.02897875676504577), (788, 0.041548178296592325), (789, 0.04765273658922892), (790, 0.06827992465240593), (791, 0.11766199210704957), (792, 0.06798328835346215), (793, 0.031343772670412426), (794, 0.04439683490302907), (795, 0.0705309474422652), (796, 0.06084040425655216), (797, 0.0), (798, 0.025290110320318325), (799, 0.010533107981843794), (800, 0.050577551516267), (801, 0.037834280617847), (802, 0.09360593352337097), (803, 0.028747192582598224), (804, 0.09206866801407317), (805, 0.07201956821323745), (806, 0.0), (807, 0.050998367905842286), (808, 0.053011406324346505), (809, 0.04895756911332796), (810, 0.10455184185005512), (811, 0.0), (812, 0.06467016566384343), (813, 0.08532930084039067), (814, 0.0), (815, 0.07042598477268204), (816, 0.0627151150308453), (817, 0.019984399287411712), (818, 0.08491684246344999), (819, 0.06368523057221215), (820, 0.007293954214719103), (821, 0.004653795141327057), (822, 0.08007955001588979), (823, 0.0), (824, 0.017911267033211473), (825, 0.07849726021118883), (826, 0.02175775858550909), (827, 0.030029621084883565), (828, 0.07350724813359164), (829, 0.0706362662762915), (830, 0.016053693003344804), (831, 0.009197142719016503), (832, 0.019167567447438784), (833, 0.0), (834, 0.0428405662183501), (835, 0.0), (836, 0.07069776038233062), (837, 0.07577376751700284), (838, 0.027750463348205037), (839, 0.0), (840, 0.013976764946066998), (841, 0.04216277179889259), (842, 0.053856126408784566), (843, 0.022504854560964214), (844, 0.014888387682087507), (845, 0.0853607955202544), (846, 0.048812149042141595), (847, 0.05983018618923833), (848, 0.013107911934852463), (849, 0.09265723002762055), (850, 0.007194360829503329), (851, 0.07267662483606041), (852, 0.0036895679907325315), (853, 0.0037653089404580025), (854, 0.013499842395453241), (855, 0.15562258547514246), (856, 0.016405687150325594), (857, 0.02945209337693746), (858, 0.044786853104293395), (859, 0.013790212490763062), (860, 0.010253688924348104), (861, 0.02477780264023819), (862, 0.019803582747472046), (863, 0.05224660549916098), (864, 0.01226396592421603), (865, 0.09837665813467358), (866, 0.07519296108353267), (867, 0.011606015291859548), (868, 0.02090151348692735), (869, 0.06276389574181178), (870, 0.040182677085105534), (871, 0.0), (872, 0.008939927703243816), (873, 0.04442768751581644), (874, 0.00814450761809394), (875, 0.10455184185005512), (876, 0.0), (877, 0.05946270972651883), (878, 0.016839279515233993), (879, 0.02555223537945562), (880, 0.011077550676627176), (881, 0.013075524881251108), (882, 0.07935581241166591), (883, 0.04753859090715859), (884, 0.024381903171396428), (885, 0.0), (886, 0.03883672154217484), (887, 0.08264062532399746), (888, 0.0), (889, 0.07658183906757406), (890, 0.014165429427577966), (891, 0.07300149428702915), (892, 0.00734512287174061), (893, 0.0071477493439062205), (894, 0.03744494421775938), (895, 0.027515120863221196), (896, 0.08665647132328747), (897, 0.06416164873327164), (898, 0.04552591091110304), (899, 0.0), (900, 0.015409509117025134), (901, 0.06144874867148594), (902, 0.11987019554109385), (903, 0.0411681702422694), (904, 0.07255835235931991), (905, 0.09152416523166804), (906, 0.01614787555352179), (907, 0.017255278794196915), (908, 0.05597419110555442), (909, 0.062018332561547686), (910, 0.06408765763982378), (911, 0.004909021479079009), (912, 0.019920092246785082), (913, 0.03974593190435731), (914, 0.056978810770841874), (915, 0.006375429673873112), (916, 0.08202472473375975), (917, 0.0), (918, 0.038797106355273454), (919, 0.0), (920, 0.1178365393624421), (921, 0.0), (922, 0.0), (923, 0.0733878874432035), (924, 0.08235605212400808), (925, 0.05576028369093507), (926, 0.005488028786616182), (927, 0.025521549910484723), (928, 0.04018487214262893), (929, 0.06795938468034768), (930, 0.013313567313979993), (931, 0.013189443828411715), (932, 0.020489738230960855), (933, 0.04087017127324227), (934, 0.0), (935, 0.10191547253752987), (936, 0.0605419374135952), (937, 0.10390481441569983), (938, 0.032930491029793986), (939, 0.006775344688548396), (940, 1.0), (941, 0.057454642791096834), (942, 0.013308281626389414), (943, 0.11082055533503406), (944, 0.053370718685392914), (945, 0.05373273125327773), (946, 0.03798091356326801), (947, 0.05706575474121198), (948, 0.08532930084039067), (949, 0.06331249084035931), (950, 0.005247554657668699), (951, 0.08640972914387739), (952, 0.05122264442502829), (953, 0.0), (954, 0.026554237651856886), (955, 0.04453162380709595), (956, 0.03624905894616079), (957, 0.0562724407264395), (958, 0.0), (959, 0.0494715814315306), (960, 0.017601359057103257), (961, 0.07197434688285922), (962, 0.020234563826983312), (963, 0.07381295264965418), (964, 0.015932054331452495), (965, 0.071560691470858), (966, 0.004050731877413268), (967, 0.030073815250760427), (968, 0.006597336668150048), (969, 0.037249706099342667), (970, 0.05011865901031257), (971, 0.04072768684706472), (972, 0.10917573887343085), (973, 0.01751107257834441), (974, 0.027994429832807075), (975, 0.07658183906757406), (976, 0.08595344953955053), (977, 0.009124625974417941), (978, 0.01063700852605337), (979, 0.01802808405454646), (980, 0.04246378236626987), (981, 0.034464544490715156), (982, 0.04877032497143209), (983, 0.054329974991064685), (984, 0.05970082586135106), (985, 0.02485152429326525), (986, 0.029793563015326246), (987, 0.0), (988, 0.0), (989, 0.046879355319679475), (990, 0.014159250383179361), (991, 0.0), (992, 0.05678772600566219), (993, 0.11092946078349714), (994, 0.025395107112336425), (995, 0.06798328835346215), (996, 0.0), (997, 0.05119602064024866), (998, 0.13495110941022573), (999, 0.0833077550415002), (1000, 0.00590229252184746), (1001, 0.018972901068969823), (1002, 0.03291943246613284), (1003, 0.10455184185005512), (1004, 0.03948117398117777), (1005, 0.07686042906485391), (1006, 0.021976734187660777), (1007, 0.042749655853321245), (1008, 0.0), (1009, 0.027156667458047526), (1010, 0.02646801853509207), (1011, 0.0049979220172762006), (1012, 0.011450459686323508), (1013, 0.0), (1014, 0.0), (1015, 0.03969168107913153), (1016, 0.008268836590885151), (1017, 0.013741382408783132), (1018, 0.05146113123983475), (1019, 0.0), (1020, 0.04387679815923773), (1021, 0.04927271096751772), (1022, 0.10455184185005512), (1023, 0.07532020569347984), (1024, 0.04759181120907794), (1025, 0.04182975662005947), (1026, 0.07023969401875135), (1027, 0.1276533492201557), (1028, 0.0), (1029, 0.0), (1030, 0.09301461508094597), (1031, 0.04550245070349519), (1032, 0.09513827011982272), (1033, 0.02709557404021022), (1034, 0.07658183906757406), (1035, 0.07255835235931991), (1036, 0.121071996389108), (1037, 0.05878582170886787), (1038, 0.016722550066510397), (1039, 0.06705054938137647), (1040, 0.10455184185005512), (1041, 0.03213561544414547), (1042, 0.04374619155480931), (1043, 0.0), (1044, 0.0), (1045, 0.02691726046638908), (1046, 0.019543894423122765), (1047, 0.009360905950364646), (1048, 0.09264510147896234), (1049, 0.15259288343024854), (1050, 0.026333395561240897), (1051, 0.04174680619975957), (1052, 0.011202986305898395), (1053, 0.011581852153003936), (1054, 0.03426039665257245), (1055, 0.009594245893024496), (1056, 0.0382844950220643), (1057, 0.07271372300075926), (1058, 0.026425069769629612), (1059, 0.02827592640367179), (1060, 0.0), (1061, 0.06957935828272217), (1062, 0.0), (1063, 0.07742547707196591), (1064, 0.0083433821044442), (1065, 0.0), (1066, 0.0), (1067, 0.0), (1068, 0.0398269403849637), (1069, 0.011162415849400956), (1070, 0.03260117763421109), (1071, 0.04212896754622287), (1072, 0.0), (1073, 0.01734986196792676), (1074, 0.0), (1075, 0.0), (1076, 0.08471504668144134), (1077, 0.02815667475198567), (1078, 0.007345391039721782), (1079, 0.03417303528945108), (1080, 0.0), (1081, 0.0), (1082, 0.049890074895644454), (1083, 0.03399169804202884), (1084, 0.0585482491686585), (1085, 0.0776145527786958), (1086, 0.0), (1087, 0.0038975135932648826), (1088, 0.025071795820309287), (1089, 0.023383020703289344), (1090, 0.09762990392400718), (1091, 0.0), (1092, 0.029158436427864944), (1093, 0.05114322428673409), (1094, 0.08537581971460928), (1095, 0.0), (1096, 0.0), (1097, 0.048812806454469726), (1098, 0.09044453935922159), (1099, 0.0), (1100, 0.02567098401348225), (1101, 0.04367362609180296), (1102, 0.055152587809374244), (1103, 0.042496301753571414), (1104, 0.10253917759315292), (1105, 0.03151567743967535), (1106, 0.0), (1107, 0.0), (1108, 0.0), (1109, 0.01070276201792536), (1110, 0.015719011081227946), (1111, 0.0), (1112, 0.0), (1113, 0.04595491097353355), (1114, 0.0), (1115, 0.03384100432544861), (1116, 0.0), (1117, 0.0), (1118, 0.05341672992553393), (1119, 0.011923338420894268), (1120, 0.007253740074838675), (1121, 0.0), (1122, 0.0), (1123, 0.0), (1124, 0.014664483035001116), (1125, 0.0), (1126, 0.013773307925484873), (1127, 0.05493115367341301), (1128, 0.03912684083667668), (1129, 0.08172704476628719), (1130, 0.09706828995869468), (1131, 0.01638473816897467), (1132, 0.0437679985217731), (1133, 0.0), (1134, 0.12343279748984443), (1135, 0.04430861186747441), (1136, 0.10210453289715639), (1137, 0.008309046104896512), (1138, 0.02104905886486893), (1139, 0.0), (1140, 0.038957550518390054), (1141, 0.0), (1142, 0.0), (1143, 0.014112510475601338), (1144, 0.06522542795708189), (1145, 0.0), (1146, 0.0), (1147, 0.006426427126309104), (1148, 0.0), (1149, 0.05570680655989395), (1150, 0.048278032874753934), (1151, 0.03993689161135465), (1152, 0.08145564987669324), (1153, 0.0507403087509859), (1154, 0.021753630438988304), (1155, 0.0), (1156, 0.0), (1157, 0.08532930084039067), (1158, 0.03306215234953623), (1159, 0.022937131120175522), (1160, 0.08527177465541556), (1161, 0.027694701431522698), (1162, 0.046543736711698355), (1163, 0.07416114011220121), (1164, 0.0), (1165, 0.0), (1166, 0.0), (1167, 0.0), (1168, 0.004072720876920032), (1169, 0.07552298929543377), (1170, 0.051347801015662116), (1171, 0.07658183906757406), (1172, 0.02998528457690991), (1173, 0.019982945052303996), (1174, 0.05730472217583143), (1175, 0.0), (1176, 0.07658183906757406), (1177, 0.06798328835346215), (1178, 0.0), (1179, 0.04609194420784461), (1180, 0.10111232234734427), (1181, 0.05601783456052595), (1182, 0.0), (1183, 0.045172661988641366), (1184, 0.0), (1185, 0.0), (1186, 0.0), (1187, 0.03594493676421778), (1188, 0.0), (1189, 0.04470264068986035), (1190, 0.015581560144072889), (1191, 0.04190393882597355), (1192, 0.04916059652972612), (1193, 0.05162261570639673), (1194, 0.0387435695632247), (1195, 0.05735259760312097), (1196, 0.007833346667575538), (1197, 0.07387800625550424), (1198, 0.1250389456589112), (1199, 0.11553957307841861), (1200, 0.0), (1201, 0.010696610152801983), (1202, 0.014457412811279241), (1203, 0.06256032994582297), (1204, 0.05511246091939136), (1205, 0.07255835235931991), (1206, 0.10455184185005512), (1207, 0.05696570703321957), (1208, 0.02753139410961023), (1209, 0.02016544047764825), (1210, 0.022229558209481304), (1211, 0.026716656491314907), (1212, 0.0), (1213, 0.0), (1214, 0.0747747573862902), (1215, 0.0), (1216, 0.062178375840377845), (1217, 0.0), (1218, 0.0), (1219, 0.0), (1220, 0.0), (1221, 0.11758754943487246), (1222, 0.00752450810557985), (1223, 0.03237907493751226), (1224, 0.02893553436332616), (1225, 0.0694686658036251), (1226, 0.05299388559900159), (1227, 0.011352341034810776), (1228, 0.01617418537268001), (1229, 0.06523380048527072), (1230, 0.025286933465790303), (1231, 0.03495481092488085), (1232, 0.023165751532356147), (1233, 0.012723919984210337), (1234, 0.0), (1235, 0.11021319852053969), (1236, 0.008859812922221492), (1237, 0.050196387273525156), (1238, 0.019678821440830312), (1239, 0.05073472138788197), (1240, 0.06603493399287792), (1241, 0.055028746054148994), (1242, 0.0), (1243, 0.0), (1244, 0.01715281033449009), (1245, 0.020399005671093044), (1246, 0.006076964335522839), (1247, 0.038191594159483706), (1248, 0.03283205926786681), (1249, 0.0), (1250, 0.0), (1251, 0.02504144731566272), (1252, 0.043634410213879225), (1253, 0.04402860573194821), (1254, 0.0643176982215139), (1255, 0.0), (1256, 0.0), (1257, 0.09891866748871507), (1258, 0.11881584210266181), (1259, 0.11545228313063917), (1260, 0.10455184185005512), (1261, 0.05408349642569531), (1262, 0.0), (1263, 0.012105375884369218), (1264, 0.036124340159409137), (1265, 0.0), (1266, 0.0), (1267, 0.01770200260955232), (1268, 0.008031011646822236), (1269, 0.018477674310473494), (1270, 0.03087157134035174), (1271, 0.0034861756591769897), (1272, 0.05060591644062919), (1273, 0.04567399922478363), (1274, 0.04608500831354975), (1275, 0.03861848629950027), (1276, 0.0), (1277, 0.005038650904655382), (1278, 0.04121998731450254), (1279, 0.033862178988226195), (1280, 0.020811956167457322), (1281, 0.07131504799065423), (1282, 0.04017749460354484), (1283, 0.0), (1284, 0.08532930084039067), (1285, 0.017853732268707494), (1286, 0.0), (1287, 0.06280097074529462), (1288, 0.0), (1289, 0.0311406376375064), (1290, 0.0), (1291, 0.10455184185005512), (1292, 0.10455184185005512), (1293, 0.08434129118884073), (1294, 0.07255835235931991), (1295, 0.0), (1296, 0.01422656907534027), (1297, 0.0), (1298, 0.02193711388055003), (1299, 0.0), (1300, 0.019906322771660406), (1301, 0.06023881694282446), (1302, 0.01305620535530468), (1303, 0.02939606147158432), (1304, 0.033088901940054455), (1305, 0.0), (1306, 0.0), (1307, 0.024945445984552665), (1308, 0.02605459918304026), (1309, 0.035258005140155826), (1310, 0.04586063263548852), (1311, 0.007745967679207462), (1312, 0.050654366758918504), (1313, 0.07599361506662156), (1314, 0.0), (1315, 0.06336360871820601), (1316, 0.04720701306784003), (1317, 0.05234086252013676), (1318, 0.06798328835346215), (1319, 0.0), (1320, 0.008589088209070173), (1321, 0.0), (1322, 0.0), (1323, 0.006994311315064419), (1324, 0.034471926131209876), (1325, 0.0), (1326, 0.02584266466018857), (1327, 0.10384421384810684), (1328, 0.0), (1329, 0.06165274454924606), (1330, 0.051458990979715596), (1331, 0.0), (1332, 0.0), (1333, 0.08532930084039067), (1334, 0.035090980997748496), (1335, 0.08532930084039067), (1336, 0.019806411547990625), (1337, 0.013784035766238701), (1338, 0.0049523392888064285), (1339, 0.0), (1340, 0.10455184185005512), (1341, 0.07779508848643225), (1342, 0.09078470738631181), (1343, 0.04365593188406761), (1344, 0.015983768002364673), (1345, 0.08724151627209614), (1346, 0.047377315402694416), (1347, 0.0), (1348, 0.013324156049479516), (1349, 0.10455184185005512), (1350, 0.0), (1351, 0.0), (1352, 0.013593246738821233), (1353, 0.025253756697008942), (1354, 0.048963338064984936), (1355, 0.06741308905717255), (1356, 0.0426058630008195), (1357, 0.06523380048527072), (1358, 0.0), (1359, 0.10455184185005512), (1360, 0.0), (1361, 0.0), (1362, 0.0), (1363, 0.02537046632111775), (1364, 0.02254136615022217), (1365, 0.0), (1366, 0.0), (1367, 0.0), (1368, 0.0), (1369, 0.03445360496615782), (1370, 0.0), (1371, 0.08456333106330452), (1372, 0.018923864682422166), (1373, 0.0), (1374, 0.07255835235931991), (1375, 0.0), (1376, 0.015995972936323096), (1377, 0.012457567086103908), (1378, 0.02420443457231028), (1379, 0.06816645445813313), (1380, 0.0854949034247848), (1381, 0.0), (1382, 0.017148650210696073), (1383, 0.06855934525619216), (1384, 0.012628188460683941), (1385, 0.04952179947011763), (1386, 0.008992945712834093), (1387, 0.0), (1388, 0.0), (1389, 0.0), (1390, 0.04603986272672743), (1391, 0.03147923584571645), (1392, 0.010954205505355454), (1393, 0.0), (1394, 0.10455184185005512), (1395, 0.0), (1396, 0.06690162471605339), (1397, 0.020817211513828683), (1398, 0.014321935141102391), (1399, 0.047006569563342517)]\n"
     ]
    }
   ],
   "source": [
    "#getting the list of similar values\n",
    "#list(enumerate()) ,this means it will find the similarity from the 144th row to all other rows\n",
    "#the one that has higher value has the higher similarity\n",
    "#the one that has lower value has the lowest similarity\n",
    "similarity_score=list(enumerate(similarity[index_of_the_movie]))\n",
    "print(similarity_score)"
   ]
  },
  {
   "cell_type": "code",
   "execution_count": 17,
   "id": "304eb6f8",
   "metadata": {},
   "outputs": [
    {
     "name": "stdout",
     "output_type": "stream",
     "text": [
      "1400\n"
     ]
    }
   ],
   "source": [
    "#the length of the similarity_score\n",
    "\n",
    "\n",
    "print(len(similarity_score))"
   ]
  },
  {
   "cell_type": "code",
   "execution_count": 18,
   "id": "22b0328b",
   "metadata": {},
   "outputs": [
    {
     "name": "stdout",
     "output_type": "stream",
     "text": [
      "[(940, 1.0), (855, 0.15562258547514246), (1049, 0.15259288343024854), (630, 0.141358734296048), (402, 0.14085602960208246), (998, 0.13495110941022573), (235, 0.13135633300258107), (1027, 0.1276533492201557), (526, 0.12599822778232986), (525, 0.125336129520792), (1198, 0.1250389456589112), (737, 0.12461681957862204), (1134, 0.12343279748984443), (410, 0.12252421797269249), (178, 0.12186949820665391), (1036, 0.121071996389108), (902, 0.11987019554109385), (1258, 0.11881584210266181), (920, 0.1178365393624421), (791, 0.11766199210704957), (1221, 0.11758754943487246), (488, 0.11587374923576362), (1199, 0.11553957307841861), (1259, 0.11545228313063917), (694, 0.11462930887210428), (499, 0.11446657698366206), (783, 0.11284346485310194), (246, 0.1126732943057932), (585, 0.1125568580650928), (993, 0.11092946078349714), (943, 0.11082055533503406), (1235, 0.11021319852053969), (972, 0.10917573887343085), (304, 0.10884794251992373), (459, 0.10822348233800279), (573, 0.10817089870892876), (429, 0.10668149425163884), (656, 0.10648056449003927), (463, 0.10628368550182773), (420, 0.1060484187689132), (538, 0.10575766937747808), (294, 0.10558284688746024), (137, 0.10482531489432195), (123, 0.10480438059774419), (810, 0.10455184185005512), (875, 0.10455184185005512), (1003, 0.10455184185005512), (1022, 0.10455184185005512), (1040, 0.10455184185005512), (1206, 0.10455184185005512), (1260, 0.10455184185005512), (1291, 0.10455184185005512), (1292, 0.10455184185005512), (1340, 0.10455184185005512), (1349, 0.10455184185005512), (1359, 0.10455184185005512), (1394, 0.10455184185005512), (518, 0.10443291657994662), (590, 0.10423667809693664), (937, 0.10390481441569983), (1327, 0.10384421384810684), (654, 0.10344564871714367), (1104, 0.10253917759315292), (1136, 0.10210453289715639), (935, 0.10191547253752987), (513, 0.10181255005529505), (1180, 0.10111232234734427), (1257, 0.09891866748871507), (865, 0.09837665813467358), (138, 0.09806826456204945), (322, 0.0979814742674127), (185, 0.09781180869288249), (1090, 0.09762990392400718), (441, 0.09740129961262714), (412, 0.09739633996485135), (1130, 0.09706828995869468), (382, 0.0970664610353249), (311, 0.09666137463866903), (361, 0.09650985059494588), (301, 0.09571704803316672), (1032, 0.09513827011982272), (1, 0.09511195857674826), (587, 0.09430084542697352), (287, 0.09429734741777068), (697, 0.09411997103355123), (122, 0.09406355671498147), (802, 0.09360593352337097), (505, 0.09304392059726418), (1030, 0.09301461508094597), (333, 0.09285001755589664), (557, 0.09283382172020466), (849, 0.09265723002762055), (1048, 0.09264510147896234), (161, 0.09253205117336147), (49, 0.09233220262716374), (804, 0.09206866801407317), (258, 0.09186003246962798), (905, 0.09152416523166804), (373, 0.09134149540797637), (746, 0.09101031451513752), (34, 0.09099133998282036), (277, 0.09087896384275111), (1342, 0.09078470738631181), (144, 0.09055915673207147), (1098, 0.09044453935922159), (321, 0.08977911245051612), (250, 0.08919122341052566), (127, 0.0889920269869054), (340, 0.08829249254847743), (285, 0.08761300975692428), (1345, 0.08724151627209614), (269, 0.08677824416817667), (543, 0.08675664975236193), (896, 0.08665647132328747), (751, 0.0866557460181167), (951, 0.08640972914387739), (148, 0.08639069484277509), (659, 0.08612979437350902), (976, 0.08595344953955053), (379, 0.08568908621293707), (1380, 0.0854949034247848), (644, 0.08544527986727213), (1094, 0.08537581971460928), (845, 0.0853607955202544), (565, 0.08534293798592421), (605, 0.08532930084039067), (813, 0.08532930084039067), (948, 0.08532930084039067), (1157, 0.08532930084039067), (1284, 0.08532930084039067), (1333, 0.08532930084039067), (1335, 0.08532930084039067), (1160, 0.08527177465541556), (469, 0.08508601113082774), (818, 0.08491684246344999), (1076, 0.08471504668144134), (1371, 0.08456333106330452), (1293, 0.08434129118884073), (194, 0.08387249001813264), (179, 0.08362651894608558), (699, 0.08357190195467896), (767, 0.08357148305192025), (999, 0.0833077550415002), (125, 0.08329797177370449), (625, 0.08321397667039612), (566, 0.08281425923692248), (887, 0.08264062532399746), (924, 0.08235605212400808), (916, 0.08202472473375975), (1129, 0.08172704476628719), (1152, 0.08145564987669324), (712, 0.08132392056698733), (650, 0.081101074029347), (146, 0.08064013574273723), (784, 0.08059812202096972), (57, 0.08040104213137997), (822, 0.08007955001588979), (302, 0.07983190037507423), (633, 0.07969154075907994), (142, 0.0796182517236127), (882, 0.07935581241166591), (727, 0.07904764913645664), (825, 0.07849726021118883), (476, 0.0784038308382139), (222, 0.07790477636252961), (1341, 0.07779508848643225), (1085, 0.0776145527786958), (494, 0.07758089201009734), (1063, 0.07742547707196591), (30, 0.0772657630264815), (509, 0.07688189216546701), (1005, 0.07686042906485391), (889, 0.07658183906757406), (975, 0.07658183906757406), (1034, 0.07658183906757406), (1171, 0.07658183906757406), (1176, 0.07658183906757406), (522, 0.07650287606938581), (278, 0.076412015901318), (140, 0.07604107813008548), (1313, 0.07599361506662156), (156, 0.07582914595631697), (837, 0.07577376751700284), (284, 0.0755777172074362), (54, 0.07557262813289799), (1169, 0.07552298929543377), (283, 0.07538382728115987), (1023, 0.07532020569347984), (717, 0.07531061446177256), (866, 0.07519296108353267), (479, 0.075022276424315), (262, 0.07487781071015091), (1214, 0.0747747573862902), (298, 0.07468824312531272), (310, 0.07439736271477754), (413, 0.07436094443650548), (86, 0.07434570797835012), (665, 0.07428886258906231), (718, 0.07420837528036452), (1163, 0.07416114011220121), (726, 0.07413484970534807), (97, 0.0740946819358814), (572, 0.07399963806374515), (1197, 0.07387800625550424), (280, 0.0738614573287763), (963, 0.07381295264965418), (828, 0.07350724813359164), (923, 0.0733878874432035), (380, 0.07321633986746198), (408, 0.07306702419284256), (203, 0.07300302152546839), (891, 0.07300149428702915), (643, 0.07283785818940443), (714, 0.07275389249413702), (696, 0.07271372300075926), (736, 0.07271372300075926), (1057, 0.07271372300075926), (851, 0.07267662483606041), (436, 0.07255835235931991), (904, 0.07255835235931991), (1035, 0.07255835235931991), (1205, 0.07255835235931991), (1294, 0.07255835235931991), (1374, 0.07255835235931991), (20, 0.07246132104639665), (674, 0.07237710398379853), (217, 0.07225781206806221), (74, 0.07209344886127222), (266, 0.07208166262492122), (805, 0.07201956821323745), (961, 0.07197434688285922), (254, 0.0716475703086613), (965, 0.071560691470858), (173, 0.07144944544961139), (404, 0.07140606427340869), (551, 0.07140012194854903), (575, 0.07139479796746923), (1281, 0.07131504799065423), (141, 0.07126945322890198), (381, 0.07101623694859896), (39, 0.07094452800540434), (836, 0.07069776038233062), (829, 0.0706362662762915), (795, 0.0705309474422652), (396, 0.07043679828437271), (815, 0.07042598477268204), (1026, 0.07023969401875135), (549, 0.0702172204162844), (438, 0.07000225584502114), (390, 0.06997180220943933), (588, 0.06988999081874844), (195, 0.06982128178239876), (94, 0.06980413591547237), (1061, 0.06957935828272217), (1225, 0.0694686658036251), (692, 0.06943127766543056), (378, 0.06942945502839425), (7, 0.06936215215319724), (558, 0.06885361286063676), (1383, 0.06855934525619216), (220, 0.0685448036169314), (193, 0.06850319897221084), (79, 0.06833750123314773), (38, 0.06832426353811134), (790, 0.06827992465240593), (759, 0.06822735437629399), (706, 0.06819775872643583), (104, 0.06818628439817769), (428, 0.06818602908917626), (1379, 0.06816645445813313), (792, 0.06798328835346215), (995, 0.06798328835346215), (1177, 0.06798328835346215), (1318, 0.06798328835346215), (929, 0.06795938468034768), (555, 0.06776191880863029), (133, 0.06743231632399353), (1355, 0.06741308905717255), (11, 0.06726641254422122), (657, 0.06708213568429185), (1039, 0.06705054938137647), (1396, 0.06690162471605339), (490, 0.06687914700319046), (439, 0.06681626959779083), (635, 0.06678934434920586), (76, 0.06662679003296122), (460, 0.06634897894544058), (725, 0.0662027828588897), (687, 0.06617474027552384), (1240, 0.06603493399287792), (201, 0.06601212756781859), (132, 0.06581116918080308), (435, 0.06524579955446974), (1229, 0.06523380048527072), (1357, 0.06523380048527072), (1144, 0.06522542795708189), (300, 0.06517745197636143), (343, 0.0649691981332144), (452, 0.0647694784152804), (812, 0.06467016566384343), (539, 0.064652220528675), (131, 0.06461941513974707), (560, 0.0643820607691344), (23, 0.06435711835442062), (773, 0.06435002512759186), (1254, 0.0643176982215139), (329, 0.06416257761017981), (897, 0.06416164873327164), (910, 0.06408765763982378), (245, 0.06407479384076314), (819, 0.06368523057221215), (515, 0.06355616852527747), (406, 0.06345438384808277), (1315, 0.06336360871820601), (949, 0.06331249084035931), (535, 0.06326847710472842), (219, 0.0632368835431149), (465, 0.06310103390730987), (451, 0.06305533977382775), (271, 0.06290121998096147), (409, 0.06288936546309547), (711, 0.06280694297258815), (1287, 0.06280097074529462), (869, 0.06276389574181178), (242, 0.06274229931783595), (816, 0.0627151150308453), (686, 0.06258989285056998), (1203, 0.06256032994582297), (702, 0.06238386406254188), (1216, 0.062178375840377845), (909, 0.062018332561547686), (432, 0.061820460719443734), (150, 0.06175243857604196), (1329, 0.06165274454924606), (456, 0.06157227407825992), (547, 0.06147906039561693), (901, 0.06144874867148594), (576, 0.061131932268144604), (10, 0.061037480786342774), (210, 0.06091359399421646), (29, 0.06085541109137174), (796, 0.06084040425655216), (346, 0.060828700603088384), (936, 0.0605419374135952), (309, 0.06045454685295912), (536, 0.06030843149907268), (1301, 0.06023881694282446), (847, 0.05983018618923833), (128, 0.0598165550568136), (729, 0.05971373780878782), (984, 0.05970082586135106), (877, 0.05946270972651883), (477, 0.05938303995853113), (44, 0.05930963028189036), (540, 0.0592979293773169), (642, 0.05919518110948254), (425, 0.059006243763236), (192, 0.0589937633511466), (707, 0.058845244088981945), (1037, 0.05878582170886787), (433, 0.05864423015455564), (2, 0.058552408571184565), (1084, 0.0585482491686585), (531, 0.05840810840488899), (782, 0.058340755922299196), (613, 0.0582274487688494), (229, 0.057920488068169934), (93, 0.05776390203469256), (744, 0.05758360915249584), (431, 0.057578236776712845), (272, 0.05754850148733516), (715, 0.05748211621862294), (941, 0.057454642791096834), (604, 0.05739470217064845), (1195, 0.05735259760312097), (1174, 0.05730472217583143), (199, 0.057296672914172925), (947, 0.05706575474121198), (187, 0.05698158608326817), (914, 0.056978810770841874), (1207, 0.05696570703321957), (95, 0.05696288736644753), (765, 0.056790148947483486), (992, 0.05678772600566219), (775, 0.056555190039751686), (87, 0.05631437616673786), (957, 0.0562724407264395), (1181, 0.05601783456052595), (908, 0.05597419110555442), (445, 0.05576286443397799), (925, 0.05576028369093507), (181, 0.055743040836555534), (171, 0.05571015224489663), (1149, 0.05570680655989395), (80, 0.05562073945658695), (186, 0.055473551214542845), (24, 0.055321667737826284), (51, 0.05516091068328044), (1102, 0.055152587809374244), (1204, 0.05511246091939136), (263, 0.055090617152165816), (1241, 0.055028746054148994), (596, 0.055003248527850664), (740, 0.054988103426691526), (1127, 0.05493115367341301), (713, 0.054853653182677604), (332, 0.054841634638126927), (664, 0.05460597036946827), (640, 0.05449801219699013), (196, 0.05443407203661349), (228, 0.05442763986494661), (324, 0.05442531625036871), (636, 0.05436715713930096), (983, 0.054329974991064685), (663, 0.054084639089197625), (1261, 0.05408349642569531), (259, 0.05403364952929662), (224, 0.053989119599909534), (46, 0.05396641208094416), (842, 0.053856126408784566), (945, 0.05373273125327773), (1118, 0.05341672992553393), (944, 0.053370718685392914), (443, 0.053323309427001434), (112, 0.05323074992517113), (233, 0.053145552761250256), (808, 0.053011406324346505), (1226, 0.05299388559900159), (103, 0.05299356883647703), (542, 0.05294162218605808), (586, 0.05294135957721951), (762, 0.05283193278805839), (1317, 0.05234086252013676), (190, 0.05227287035709621), (863, 0.05224660549916098), (241, 0.05222658408600274), (574, 0.052208336471361486), (628, 0.05210728036439565), (681, 0.052044840558693066), (688, 0.052023682279245594), (315, 0.05199488187584157), (92, 0.05192213505894645), (474, 0.051853860045094576), (275, 0.05183720722685416), (1193, 0.05162261570639673), (389, 0.05157382993518734), (1018, 0.05146113123983475), (1330, 0.051458990979715596), (612, 0.05138205454767178), (1170, 0.051347801015662116), (533, 0.05134121682818378), (952, 0.05122264442502829), (997, 0.05119602064024866), (1093, 0.05114322428673409), (359, 0.05111642162298968), (807, 0.050998367905842286), (716, 0.050958142408376164), (384, 0.050809442751301885), (1153, 0.0507403087509859), (1239, 0.05073472138788197), (1312, 0.050654366758918504), (1272, 0.05060591644062919), (800, 0.050577551516267), (416, 0.050543209870413865), (276, 0.05050382686480727), (414, 0.050288314291006705), (1237, 0.050196387273525156), (970, 0.05011865901031257), (676, 0.04996002346473123), (207, 0.049930942294189214), (1082, 0.049890074895644454), (281, 0.04973083650935062), (114, 0.0496225901946478), (1385, 0.04952179947011763), (553, 0.049472749793388976), (959, 0.0494715814315306), (480, 0.0494337005631075), (700, 0.04939556257801605), (1021, 0.04927271096751772), (113, 0.049189490518612565), (1192, 0.04916059652972612), (1354, 0.048963338064984936), (809, 0.04895756911332796), (238, 0.048933246413034925), (584, 0.04884168304567213), (1097, 0.048812806454469726), (846, 0.048812149042141595), (424, 0.04877041239761683), (982, 0.04877032497143209), (478, 0.0486460945377621), (209, 0.04854504782048745), (8, 0.04846713004968673), (1150, 0.048278032874753934), (444, 0.048130285912550176), (658, 0.048098456707612536), (733, 0.04809780441103536), (330, 0.04809431810662183), (126, 0.04794694755538015), (175, 0.04779923921156056), (297, 0.04774898009070637), (789, 0.04765273658922892), (1024, 0.04759181120907794), (668, 0.047555806713054705), (291, 0.04754214992262965), (883, 0.04753859090715859), (1346, 0.047377315402694416), (770, 0.04735813919915406), (579, 0.04735469135274328), (1316, 0.04720701306784003), (561, 0.0472003675813821), (1399, 0.047006569563342517), (610, 0.04695037988639757), (364, 0.04693385304219559), (989, 0.046879355319679475), (351, 0.046836889326260636), (292, 0.04674501005588269), (130, 0.04668207752798512), (1162, 0.046543736711698355), (249, 0.046426707928786955), (206, 0.046357185912953666), (225, 0.046126833835749136), (1179, 0.04609194420784461), (1274, 0.04608500831354975), (1390, 0.04603986272672743), (1113, 0.04595491097353355), (363, 0.045889798256406614), (1310, 0.04586063263548852), (145, 0.04582403115721186), (398, 0.04578620074601544), (264, 0.045695297519699654), (1273, 0.04567399922478363), (6, 0.04558972706389338), (898, 0.04552591091110304), (1031, 0.04550245070349519), (705, 0.04549560579630946), (523, 0.045409479943610824), (56, 0.04537166895509386), (1183, 0.045172661988641366), (768, 0.04500984026676473), (226, 0.044812190390432785), (858, 0.044786853104293395), (1189, 0.04470264068986035), (3, 0.04469277271095233), (320, 0.044667119513277544), (524, 0.044557635511714155), (955, 0.04453162380709595), (873, 0.04442768751581644), (794, 0.04439683490302907), (1135, 0.04430861186747441), (721, 0.04426874873540694), (437, 0.04417781300714354), (755, 0.04410860280571534), (102, 0.04409799100873379), (756, 0.0440407656856831), (1253, 0.04402860573194821), (353, 0.04400282073061279), (447, 0.043967476035786636), (1020, 0.04387679815923773), (99, 0.04386134207593389), (1132, 0.0437679985217731), (147, 0.04376385094656993), (1042, 0.04374619155480931), (611, 0.04372123775466151), (1101, 0.04367362609180296), (1343, 0.04365593188406761), (1252, 0.043634410213879225), (383, 0.04363139677919066), (14, 0.04361181419792991), (42, 0.043524981016561916), (670, 0.0432881021668731), (65, 0.04320171685687981), (734, 0.04305059779621645), (595, 0.04302313778770204), (68, 0.04301337295116068), (430, 0.042904969666027436), (834, 0.0428405662183501), (216, 0.04283048271786835), (1007, 0.042749655853321245), (352, 0.04261052448616193), (1356, 0.0426058630008195), (1103, 0.042496301753571414), (980, 0.04246378236626987), (841, 0.04216277179889259), (1071, 0.04212896754622287), (1191, 0.04190393882597355), (617, 0.04188118326757122), (1025, 0.04182975662005947), (483, 0.04180938457282323), (749, 0.041778660864681974), (347, 0.041755119998802076), (1051, 0.04174680619975957), (498, 0.04171017324273998), (415, 0.0416835545591495), (788, 0.041548178296592325), (651, 0.04150467878481711), (314, 0.04133643861182508), (218, 0.04131251755406287), (279, 0.04127304159766904), (1278, 0.04121998731450254), (903, 0.0411681702422694), (516, 0.04115326511566427), (598, 0.04114219457689264), (933, 0.04087017127324227), (971, 0.04072768684706472), (454, 0.040708276722293574), (371, 0.040623205487668006), (159, 0.04057271664106041), (17, 0.04052864091651917), (649, 0.04042127768469716), (928, 0.04018487214262893), (870, 0.040182677085105534), (1282, 0.04017749460354484), (387, 0.0401336975452893), (691, 0.04008953768933452), (312, 0.04004491908149527), (1151, 0.03993689161135465), (1068, 0.0398269403849637), (334, 0.0398058403724612), (913, 0.03974593190435731), (4, 0.03973470673477822), (267, 0.03969426614595856), (1015, 0.03969168107913153), (453, 0.039685203085222026), (1004, 0.03948117398117777), (273, 0.039197797466771156), (270, 0.0391699757879084), (1128, 0.03912684083667668), (13, 0.03896725278925161), (1140, 0.038957550518390054), (307, 0.038861493517739196), (886, 0.03883672154217484), (427, 0.038818259385296164), (589, 0.038812017838502536), (918, 0.038797106355273454), (1194, 0.0387435695632247), (592, 0.03869611972047789), (83, 0.03867482394688667), (1275, 0.03861848629950027), (723, 0.03858063410027751), (521, 0.038573842484485074), (608, 0.038456318579486476), (282, 0.0384416387559056), (514, 0.038395308172057836), (1056, 0.0382844950220643), (407, 0.03824225681044213), (597, 0.03820531829268989), (1247, 0.038191594159483706), (405, 0.03800365612100035), (946, 0.03798091356326801), (64, 0.037963577014456025), (22, 0.03789366935501707), (704, 0.0378913544945324), (426, 0.03785023762716829), (801, 0.037834280617847), (198, 0.03769098949451005), (244, 0.03755952901531255), (894, 0.03744494421775938), (66, 0.03732820602636797), (969, 0.037249706099342667), (719, 0.03722865761149712), (501, 0.037184518213602705), (667, 0.03690442961598295), (290, 0.03678231899632873), (174, 0.03662682052462958), (385, 0.03648126458243936), (98, 0.036338394645252965), (956, 0.03624905894616079), (771, 0.03621973745872843), (1264, 0.036124340159409137), (489, 0.036068979467682186), (251, 0.03602985189808047), (1187, 0.03594493676421778), (564, 0.035790020274330814), (286, 0.03578955795100698), (401, 0.03572726815688111), (615, 0.035670940778107986), (571, 0.03560688226101448), (552, 0.03559589516014554), (120, 0.03554932763207837), (239, 0.03550822330465419), (12, 0.035392838587153586), (84, 0.035350600148437536), (9, 0.035349853661421585), (1309, 0.035258005140155826), (493, 0.035160292427359074), (96, 0.03513873272872672), (1334, 0.035090980997748496), (786, 0.035074386596576794), (180, 0.03506586470655024), (1231, 0.03495481092488085), (28, 0.03458716891386232), (255, 0.03456056035704483), (1324, 0.034471926131209876), (981, 0.034464544490715156), (1369, 0.03445360496615782), (534, 0.0344121293322393), (570, 0.03439001191487558), (662, 0.03434968915759819), (151, 0.03431226587533285), (0, 0.03430795841893329), (202, 0.034267580926831104), (1054, 0.03426039665257245), (741, 0.034233182724165645), (1079, 0.03417303528945108), (355, 0.03416233347784959), (391, 0.03413897544073164), (37, 0.034052485718741005), (265, 0.03400284049414426), (1083, 0.03399169804202884), (1279, 0.033862178988226195), (1115, 0.03384100432544861), (33, 0.033652177178800965), (745, 0.03361673895128672), (738, 0.033597322995063975), (548, 0.033540969467523), (170, 0.033272320009497945), (701, 0.03312740443183189), (1304, 0.033088901940054455), (1158, 0.03306215234953623), (619, 0.0330399156031555), (497, 0.032999414075491756), (938, 0.032930491029793986), (491, 0.03292056514458572), (1002, 0.03291943246613284), (1248, 0.03283205926786681), (43, 0.03280904724432377), (155, 0.032797224879357816), (1070, 0.03260117763421109), (372, 0.03259741895367325), (544, 0.03242263720895058), (1223, 0.03237907493751226), (73, 0.032358515693159715), (594, 0.03231101413849774), (614, 0.03218094981386959), (1041, 0.03213561544414547), (578, 0.03212520989804398), (149, 0.032101628324483066), (32, 0.03194208597705869), (532, 0.03192513608858211), (591, 0.0318859739677986), (160, 0.0318819336444185), (411, 0.03187519128032654), (204, 0.03178495113623246), (121, 0.031752757845371196), (356, 0.03172657286804084), (458, 0.031726285961700094), (1105, 0.03151567743967535), (690, 0.03150815450106394), (1391, 0.03147923584571645), (793, 0.031343772670412426), (418, 0.031282043169145304), (214, 0.0312227277650534), (1289, 0.0311406376375064), (27, 0.03111599927305862), (115, 0.03107392922935247), (172, 0.031049859479821966), (648, 0.031045956473565006), (626, 0.031042522355193475), (779, 0.03100961038961035), (634, 0.030903705069291243), (695, 0.030903072686868805), (641, 0.030884866638920642), (1270, 0.03087157134035174), (683, 0.03060436507256781), (176, 0.03053917182220616), (306, 0.030489554528844724), (349, 0.03047928547393836), (492, 0.030371798878710134), (215, 0.030136931582238513), (967, 0.030073815250760427), (154, 0.030069962287346777), (827, 0.030029621084883565), (593, 0.03001953380294419), (1172, 0.02998528457690991), (316, 0.029829195791773563), (986, 0.029793563015326246), (58, 0.02977409009890486), (624, 0.029762350922279995), (857, 0.02945209337693746), (257, 0.02943729408890901), (1303, 0.02939606147158432), (562, 0.029374374876241047), (338, 0.02931860908362554), (247, 0.029283758339079945), (554, 0.029231098490160905), (374, 0.029226976770537514), (36, 0.029195449578769992), (16, 0.029178729641654678), (392, 0.029164590133384245), (1092, 0.029158436427864944), (637, 0.02911728745594022), (158, 0.02906491171428921), (787, 0.02897875676504577), (1224, 0.02893553436332616), (803, 0.028747192582598224), (360, 0.028518180115736758), (105, 0.028358109597787475), (785, 0.02829709620959292), (327, 0.028278164319184264), (1059, 0.02827592640367179), (423, 0.028240970670541814), (358, 0.02816311061813084), (1077, 0.02815667475198567), (116, 0.028097865527507367), (143, 0.02805236565071473), (974, 0.027994429832807075), (59, 0.027965359819272444), (393, 0.027920378638106), (111, 0.027879302895542454), (838, 0.027750463348205037), (527, 0.027707536814577997), (1161, 0.027694701431522698), (1208, 0.02753139410961023), (895, 0.027515120863221196), (724, 0.027472083194198364), (1009, 0.027156667458047526), (1033, 0.02709557404021022), (639, 0.02709209896125379), (293, 0.027087875516441224), (261, 0.027055312035766745), (500, 0.027045558319970527), (722, 0.02700056786517052), (1045, 0.02691726046638908), (109, 0.026767602233749997), (559, 0.02674948497595801), (1211, 0.026716656491314907), (189, 0.02671517024672461), (342, 0.026589381341083917), (317, 0.026565280521882135), (954, 0.026554237651856886), (124, 0.026552750419616473), (679, 0.026509103997964495), (1010, 0.02646801853509207), (1058, 0.026425069769629612), (237, 0.026359150990730672), (52, 0.026339165217284608), (1050, 0.026333395561240897), (166, 0.02626921522727678), (47, 0.02624475120533481), (339, 0.026179196541887693), (1308, 0.02605459918304026), (462, 0.02603864085653579), (299, 0.025858128021757486), (1326, 0.02584266466018857), (191, 0.02576434486788715), (520, 0.02567658039025851), (1100, 0.02567098401348225), (31, 0.02556941208441166), (879, 0.02555223537945562), (927, 0.025521549910484723), (732, 0.025442775919368166), (994, 0.025395107112336425), (1363, 0.02537046632111775), (602, 0.025331363831269195), (763, 0.025320564153446645), (798, 0.025290110320318325), (1230, 0.025286933465790303), (256, 0.025264810432273445), (1353, 0.025253756697008942), (470, 0.02521367858203992), (1088, 0.025071795820309287), (1251, 0.02504144731566272), (582, 0.0249805446975523), (1307, 0.024945445984552665), (985, 0.02485152429326525), (861, 0.02477780264023819), (616, 0.02474079507855158), (118, 0.024700346872679656), (69, 0.024688791987977507), (884, 0.024381903171396428), (153, 0.024298418934751667), (82, 0.024222957163189677), (1378, 0.02420443457231028), (511, 0.024178632360473802), (545, 0.02413526867504214), (88, 0.023904468594149488), (720, 0.023865928601977796), (100, 0.02372061331732679), (336, 0.02371950201684511), (70, 0.023633872636288727), (464, 0.023608089874193293), (305, 0.023589774882601732), (117, 0.023532882765409928), (78, 0.023499172300001498), (485, 0.02341732170963773), (337, 0.0234009252077527), (1089, 0.023383020703289344), (375, 0.02336914167674759), (510, 0.023311942898890107), (15, 0.023264825688027256), (506, 0.02321264690993383), (1232, 0.023165751532356147), (731, 0.022956131246214245), (1159, 0.022937131120175522), (541, 0.02277327093709655), (248, 0.02275804728624218), (331, 0.02269048728339017), (318, 0.022685231155048623), (89, 0.02267698810083325), (61, 0.02261410059648964), (647, 0.022604502522449568), (1364, 0.02254136615022217), (328, 0.022537174904297463), (843, 0.022504854560964214), (288, 0.022426080289900365), (326, 0.02233105324331571), (1210, 0.022229558209481304), (85, 0.022133845456906664), (422, 0.022074998050131408), (601, 0.02201185447901246), (1006, 0.021976734187660777), (106, 0.021956616277538983), (1298, 0.02193711388055003), (666, 0.021881341891831114), (5, 0.02177817867852071), (826, 0.02175775858550909), (1154, 0.021753630438988304), (129, 0.021642559691442326), (461, 0.021634332969539854), (367, 0.02162043224228839), (232, 0.021515762664921712), (295, 0.0214483854258013), (350, 0.021419748741323463), (308, 0.021379324657034564), (600, 0.021227853740118166), (205, 0.02114370375734326), (442, 0.021059373233305114), (1138, 0.02104905886486893), (537, 0.020929385869790464), (868, 0.02090151348692735), (618, 0.020873503246914865), (1397, 0.020817211513828683), (764, 0.020813212855159628), (1280, 0.020811956167457322), (110, 0.020738393658042593), (709, 0.020617567193681262), (932, 0.020489738230960855), (365, 0.020425113756791992), (1245, 0.020399005671093044), (780, 0.020341145826851842), (962, 0.020234563826983312), (303, 0.02020710127900365), (168, 0.02019069412649866), (1209, 0.02016544047764825), (341, 0.02011454341434984), (817, 0.019984399287411712), (1173, 0.019982945052303996), (912, 0.019920092246785082), (1300, 0.019906322771660406), (60, 0.019821011745615714), (213, 0.019806595346752182), (1336, 0.019806411547990625), (862, 0.019803582747472046), (450, 0.01977187446844774), (1238, 0.019678821440830312), (223, 0.01967790365879589), (26, 0.01957769602249658), (1046, 0.019543894423122765), (399, 0.0194970101307552), (730, 0.01918658224803927), (832, 0.019167567447438784), (227, 0.019053518463589082), (388, 0.018993315701714884), (1001, 0.018972901068969823), (169, 0.018932484469937935), (1372, 0.018923864682422166), (35, 0.01848855927205291), (1269, 0.018477674310473494), (482, 0.018384527828651867), (503, 0.01836769158429038), (395, 0.018347899546058498), (556, 0.018238335987856152), (652, 0.018205087208719176), (274, 0.018096835999557977), (979, 0.01802808405454646), (774, 0.01799578483616282), (747, 0.017933701710487443), (824, 0.017911267033211473), (606, 0.01786312769710442), (1285, 0.017853732268707494), (781, 0.017719024225965427), (1267, 0.01770200260955232), (960, 0.017601359057103257), (231, 0.017540358222536887), (973, 0.01751107257834441), (243, 0.01745209470637391), (693, 0.017422543286387343), (629, 0.017393170678440907), (673, 0.017379831480192082), (1073, 0.01734986196792676), (907, 0.017255278794196915), (136, 0.017194720494347865), (1244, 0.01715281033449009), (1382, 0.017148650210696073), (502, 0.01714266977381442), (183, 0.017116701207863336), (660, 0.01710580384478511), (567, 0.01702494058267318), (108, 0.016934714455625156), (467, 0.016912310774325708), (752, 0.0168660969593683), (197, 0.01685834099580851), (878, 0.016839279515233993), (67, 0.016815607227856737), (21, 0.016799437716901403), (1038, 0.016722550066510397), (252, 0.016414893614290875), (856, 0.016405687150325594), (1131, 0.01638473816897467), (577, 0.01633942661410355), (211, 0.016320629254434144), (468, 0.016261870301357707), (91, 0.016239085967826708), (1228, 0.01617418537268001), (906, 0.01614787555352179), (569, 0.016109569849456273), (139, 0.016107126166843684), (748, 0.01608426371609768), (830, 0.016053693003344804), (40, 0.01600760359544999), (323, 0.015997618827767852), (1376, 0.015995972936323096), (1344, 0.015983768002364673), (964, 0.015932054331452495), (48, 0.01581118745227426), (1110, 0.015719011081227946), (1190, 0.015581560144072889), (900, 0.015409509117025134), (240, 0.01536897077015104), (486, 0.015126747435623773), (77, 0.015011637554935758), (471, 0.014985034232942803), (844, 0.014888387682087507), (672, 0.014774719942935537), (53, 0.014713996702482031), (772, 0.014707711849907767), (446, 0.01469225139838191), (1124, 0.014664483035001116), (377, 0.014652787603030546), (678, 0.014639191622900987), (345, 0.014594780115798225), (366, 0.01458006219094432), (417, 0.014504185971459246), (1202, 0.014457412811279241), (440, 0.014452063772959111), (296, 0.014345007040223507), (1398, 0.014321935141102391), (1296, 0.01422656907534027), (890, 0.014165429427577966), (990, 0.014159250383179361), (1143, 0.014112510475601338), (631, 0.014111306432475147), (517, 0.014040507665152734), (609, 0.013999566812099505), (840, 0.013976764946066998), (101, 0.013951379913814586), (370, 0.013806787743592955), (165, 0.013798216854835604), (152, 0.013791807555876886), (859, 0.013790212490763062), (1337, 0.013784035766238701), (1126, 0.013773307925484873), (1017, 0.013741382408783132), (1352, 0.013593246738821233), (703, 0.013550236230092268), (854, 0.013499842395453241), (507, 0.013490958321099734), (403, 0.013449838722310597), (581, 0.013422247156159781), (632, 0.013354218093252181), (1348, 0.013324156049479516), (930, 0.013313567313979993), (942, 0.013308281626389414), (931, 0.013189443828411715), (848, 0.013107911934852463), (653, 0.013087876863326861), (881, 0.013075524881251108), (1302, 0.01305620535530468), (62, 0.012810769932279382), (473, 0.012782428955523171), (1233, 0.012723919984210337), (75, 0.01271448169880001), (627, 0.012694276753575599), (1384, 0.012628188460683941), (1377, 0.012457567086103908), (864, 0.01226396592421603), (63, 0.012253148944384177), (689, 0.01214933323691054), (1263, 0.012105375884369218), (182, 0.012090101911885798), (260, 0.012043482968170812), (184, 0.011995149944152335), (1119, 0.011923338420894268), (698, 0.011921884959694668), (368, 0.011877144965912637), (134, 0.011750202226869547), (25, 0.011682351134001255), (867, 0.011606015291859548), (1053, 0.011581852153003936), (268, 0.011568611634654743), (369, 0.011550684642704952), (253, 0.011543612881826773), (72, 0.0114520361906659), (1012, 0.011450459686323508), (621, 0.011438398064070385), (1227, 0.011352341034810776), (778, 0.011307205320165492), (455, 0.011280500341737556), (107, 0.01126843781517873), (1052, 0.011202986305898395), (1069, 0.011162415849400956), (880, 0.011077550676627176), (1392, 0.010954205505355454), (236, 0.010808598030861136), (680, 0.010794824516765434), (177, 0.010766111516947792), (1109, 0.01070276201792536), (1201, 0.010696610152801983), (978, 0.01063700852605337), (50, 0.010557769382038317), (799, 0.010533107981843794), (487, 0.010463219756678348), (81, 0.010452422010000816), (163, 0.010318439998703707), (860, 0.010253688924348104), (419, 0.010015252780397544), (1055, 0.009594245893024496), (362, 0.00951449523591871), (55, 0.00946006810256334), (1047, 0.009360905950364646), (831, 0.009197142719016503), (977, 0.009124625974417941), (682, 0.009050142115264611), (753, 0.009029685187249262), (1386, 0.008992945712834093), (872, 0.008939927703243816), (761, 0.008900865197017901), (1236, 0.008859812922221492), (769, 0.008846967890464059), (646, 0.008822690840703334), (354, 0.008669854958003336), (1320, 0.008589088209070173), (19, 0.00852014269769809), (157, 0.008473843447837897), (1064, 0.0083433821044442), (1137, 0.008309046104896512), (1016, 0.008268836590885151), (874, 0.00814450761809394), (1268, 0.008031011646822236), (1196, 0.007833346667575538), (1311, 0.007745967679207462), (335, 0.0077104690937115), (519, 0.007666469843206619), (496, 0.0076111974211745875), (1222, 0.00752450810557985), (495, 0.007420274290611882), (1078, 0.007345391039721782), (892, 0.00734512287174061), (820, 0.007293954214719103), (1120, 0.007253740074838675), (850, 0.007194360829503329), (230, 0.00716638769290297), (386, 0.007162014299155962), (893, 0.0071477493439062205), (1323, 0.006994311315064419), (45, 0.0069740898695519835), (739, 0.006795940379842562), (939, 0.006775344688548396), (135, 0.006761416416751321), (400, 0.006760739573174409), (71, 0.006735892200107823), (344, 0.006664436447792258), (968, 0.006597336668150048), (448, 0.006567190533317584), (504, 0.006517683799632047), (1147, 0.006426427126309104), (529, 0.006414536281590968), (915, 0.006375429673873112), (188, 0.006297689530587804), (18, 0.006293917895576081), (481, 0.00620879058996336), (475, 0.006190573609931798), (164, 0.006119863982711539), (421, 0.006114756569507607), (1246, 0.006076964335522839), (1000, 0.00590229252184746), (200, 0.005696947622127243), (750, 0.005687210675590998), (466, 0.005669708402958685), (457, 0.0056018635334767605), (926, 0.005488028786616182), (119, 0.005428348384887355), (484, 0.0054261765301284424), (728, 0.005399970312513673), (580, 0.005340814581627735), (394, 0.005318908017520635), (950, 0.005247554657668699), (1277, 0.005038650904655382), (1011, 0.0049979220172762006), (1338, 0.0049523392888064285), (743, 0.004918583942787542), (911, 0.004909021479079009), (162, 0.0048634042307306), (221, 0.004825190504850409), (376, 0.004746338396236956), (90, 0.004668363768215771), (821, 0.004653795141327057), (167, 0.004612834602298368), (434, 0.004486104925953807), (766, 0.004370731833183142), (546, 0.00413923888813071), (1168, 0.004072720876920032), (966, 0.004050731877413268), (1087, 0.0038975135932648826), (853, 0.0037653089404580025), (852, 0.0036895679907325315), (1271, 0.0034861756591769897), (41, 0.0), (208, 0.0), (212, 0.0), (234, 0.0), (289, 0.0), (313, 0.0), (319, 0.0), (325, 0.0), (348, 0.0), (357, 0.0), (397, 0.0), (449, 0.0), (472, 0.0), (508, 0.0), (512, 0.0), (528, 0.0), (530, 0.0), (550, 0.0), (563, 0.0), (568, 0.0), (583, 0.0), (599, 0.0), (603, 0.0), (607, 0.0), (620, 0.0), (622, 0.0), (623, 0.0), (638, 0.0), (645, 0.0), (655, 0.0), (661, 0.0), (669, 0.0), (671, 0.0), (675, 0.0), (677, 0.0), (684, 0.0), (685, 0.0), (708, 0.0), (710, 0.0), (735, 0.0), (742, 0.0), (754, 0.0), (757, 0.0), (758, 0.0), (760, 0.0), (776, 0.0), (777, 0.0), (797, 0.0), (806, 0.0), (811, 0.0), (814, 0.0), (823, 0.0), (833, 0.0), (835, 0.0), (839, 0.0), (871, 0.0), (876, 0.0), (885, 0.0), (888, 0.0), (899, 0.0), (917, 0.0), (919, 0.0), (921, 0.0), (922, 0.0), (934, 0.0), (953, 0.0), (958, 0.0), (987, 0.0), (988, 0.0), (991, 0.0), (996, 0.0), (1008, 0.0), (1013, 0.0), (1014, 0.0), (1019, 0.0), (1028, 0.0), (1029, 0.0), (1043, 0.0), (1044, 0.0), (1060, 0.0), (1062, 0.0), (1065, 0.0), (1066, 0.0), (1067, 0.0), (1072, 0.0), (1074, 0.0), (1075, 0.0), (1080, 0.0), (1081, 0.0), (1086, 0.0), (1091, 0.0), (1095, 0.0), (1096, 0.0), (1099, 0.0), (1106, 0.0), (1107, 0.0), (1108, 0.0), (1111, 0.0), (1112, 0.0), (1114, 0.0), (1116, 0.0), (1117, 0.0), (1121, 0.0), (1122, 0.0), (1123, 0.0), (1125, 0.0), (1133, 0.0), (1139, 0.0), (1141, 0.0), (1142, 0.0), (1145, 0.0), (1146, 0.0), (1148, 0.0), (1155, 0.0), (1156, 0.0), (1164, 0.0), (1165, 0.0), (1166, 0.0), (1167, 0.0), (1175, 0.0), (1178, 0.0), (1182, 0.0), (1184, 0.0), (1185, 0.0), (1186, 0.0), (1188, 0.0), (1200, 0.0), (1212, 0.0), (1213, 0.0), (1215, 0.0), (1217, 0.0), (1218, 0.0), (1219, 0.0), (1220, 0.0), (1234, 0.0), (1242, 0.0), (1243, 0.0), (1249, 0.0), (1250, 0.0), (1255, 0.0), (1256, 0.0), (1262, 0.0), (1265, 0.0), (1266, 0.0), (1276, 0.0), (1283, 0.0), (1286, 0.0), (1288, 0.0), (1290, 0.0), (1295, 0.0), (1297, 0.0), (1299, 0.0), (1305, 0.0), (1306, 0.0), (1314, 0.0), (1319, 0.0), (1321, 0.0), (1322, 0.0), (1325, 0.0), (1328, 0.0), (1331, 0.0), (1332, 0.0), (1339, 0.0), (1347, 0.0), (1350, 0.0), (1351, 0.0), (1358, 0.0), (1360, 0.0), (1361, 0.0), (1362, 0.0), (1365, 0.0), (1366, 0.0), (1367, 0.0), (1368, 0.0), (1370, 0.0), (1373, 0.0), (1375, 0.0), (1381, 0.0), (1387, 0.0), (1388, 0.0), (1389, 0.0), (1393, 0.0), (1395, 0.0)]\n"
     ]
    }
   ],
   "source": [
    "#out of all these we only require the higher similarity_score\n",
    "#so we need to sort them\n",
    "\n",
    "\n",
    "sorted_similarity_score=sorted(similarity_score,key = lambda x:x[1],reverse=True )\n",
    "#lambda function describe that we only sort the similarity values not the index values\n",
    "#reverse =True defines descending order\n",
    "\n",
    "\n",
    "print(sorted_similarity_score)"
   ]
  },
  {
   "cell_type": "code",
   "execution_count": 19,
   "id": "91dc115d",
   "metadata": {},
   "outputs": [
    {
     "name": "stdout",
     "output_type": "stream",
     "text": [
      "Movies recommended for you....\n",
      "\n",
      "1 . Prema Kavali\n",
      "2 . Chiru Navvuto\n",
      "3 . Idi Ma Prema Katha\n",
      "4 . Shivam\n",
      "5 . Krishnam Vande Jagadgurum\n",
      "6 . Jayammu Nischayammu Raa!\n",
      "7 . Teen Maar\n",
      "8 . Soggadu\n",
      "9 . Gokulamlo Seetha\n",
      "10 . Rayalaseema Ramanna Chowdary\n"
     ]
    }
   ],
   "source": [
    "#now we need to find the movie name based on the index\n",
    "\n",
    "print(\"Movies recommended for you....\\n\")\n",
    "j=1\n",
    "for i in sorted_similarity_score:\n",
    "    ind=i[0]\n",
    "    suggested_movie=data[data.index==ind][\"Movie\"].values[0]\n",
    "    if(j<=10):\n",
    "       print(j,'.',suggested_movie)\n",
    "    j=j+1    \n",
    "    \n",
    "#i have maintained j variable inorder to print only specific number of values (here only 10 values)"
   ]
  },
  {
   "cell_type": "code",
   "execution_count": null,
   "id": "e53a5ec6",
   "metadata": {},
   "outputs": [],
   "source": []
  }
 ],
 "metadata": {
  "kernelspec": {
   "display_name": "Python 3 (ipykernel)",
   "language": "python",
   "name": "python3"
  },
  "language_info": {
   "codemirror_mode": {
    "name": "ipython",
    "version": 3
   },
   "file_extension": ".py",
   "mimetype": "text/x-python",
   "name": "python",
   "nbconvert_exporter": "python",
   "pygments_lexer": "ipython3",
   "version": "3.10.9"
  }
 },
 "nbformat": 4,
 "nbformat_minor": 5
}
